{
 "cells": [
  {
   "cell_type": "markdown",
   "id": "42e97766",
   "metadata": {},
   "source": [
    "# Install and import dependencies\n"
   ]
  },
  {
   "cell_type": "code",
   "execution_count": null,
   "id": "6b6f1e5b-45c3-47f8-a56c-169269bbd1c7",
   "metadata": {},
   "outputs": [],
   "source": [
    "!pip install -qU \"ray[train]\"==2.34.0 \"ray[client]\"==2.34.0 xgboost_ray scikit-learn"
   ]
  },
  {
   "cell_type": "code",
   "execution_count": null,
   "id": "1cef6299-01d5-4cfb-97b3-cd54d47cf74d",
   "metadata": {},
   "outputs": [],
   "source": [
    "from xgboost_ray import RayDMatrix, RayParams, train, predict\n",
    "from sklearn.datasets import load_breast_cancer\n",
    "import ray\n",
    "import xgboost as xgb"
   ]
  },
  {
   "cell_type": "markdown",
   "id": "5aec1c93",
   "metadata": {},
   "source": [
    "# Initiate connection to the remote Ray cluster\n"
   ]
  },
  {
   "cell_type": "code",
   "execution_count": null,
   "id": "9467a1cf-754b-4807-b9d2-8022ec80fc78",
   "metadata": {},
   "outputs": [],
   "source": [
    "ray.init(\n",
    "    address=\"ray://raycluster-kuberay-head-svc.default.svc.cluster.local:10001\",\n",
    "    runtime_env={\"pip\": [\"xgboost\", \"xgboost_ray\", \"scikit-learn\"]},\n",
    ")"
   ]
  },
  {
   "cell_type": "markdown",
   "id": "163a6cb9",
   "metadata": {},
   "source": [
    "# Training\n"
   ]
  },
  {
   "cell_type": "code",
   "execution_count": null,
   "id": "95d834d5-fe65-4b5a-886d-8f7f46f4f090",
   "metadata": {},
   "outputs": [],
   "source": [
    "@ray.remote\n",
    "def train_model():\n",
    "    train_x, train_y = load_breast_cancer(return_X_y=True)\n",
    "    train_set = RayDMatrix(train_x, train_y)\n",
    "\n",
    "    evals_result = {}\n",
    "    bst = train(\n",
    "        {\n",
    "            \"objective\": \"binary:logistic\",\n",
    "            \"eval_metric\": [\"logloss\", \"error\"],\n",
    "        },\n",
    "        train_set,\n",
    "        evals_result=evals_result,\n",
    "        evals=[(train_set, \"train\")],\n",
    "        verbose_eval=False,\n",
    "        ray_params=RayParams(num_actors=2, cpus_per_actor=1),  # Number of remote actors\n",
    "    )\n",
    "\n",
    "    print(\"Final training error: {:.4f}\".format(evals_result[\"train\"][\"error\"][-1]))\n",
    "\n",
    "    return bst"
   ]
  },
  {
   "cell_type": "code",
   "execution_count": null,
   "id": "18c8d323-5293-4fa7-bd55-d804f051b289",
   "metadata": {},
   "outputs": [],
   "source": [
    "model = ray.get(train_model.remote())\n",
    "model.save_model(\"model.xgb\")"
   ]
  },
  {
   "cell_type": "markdown",
   "id": "76ae3ffd",
   "metadata": {},
   "source": [
    "# Batch Predictions\n"
   ]
  },
  {
   "cell_type": "code",
   "execution_count": null,
   "id": "d44d17bf-c32b-4498-bb53-d3ea986f6622",
   "metadata": {},
   "outputs": [],
   "source": [
    "data, labels = load_breast_cancer(return_X_y=True)\n",
    "\n",
    "dpred = RayDMatrix(data, labels)\n",
    "\n",
    "model = xgb.Booster(model_file=\"model.xgb\")\n",
    "pred_ray = predict(model, dpred, ray_params=RayParams(num_actors=2, cpus_per_actor=1))\n",
    "\n",
    "print(pred_ray)"
   ]
  },
  {
   "cell_type": "markdown",
   "id": "00aa2b90",
   "metadata": {},
   "source": [
    "# Clean up\n"
   ]
  },
  {
   "cell_type": "code",
   "execution_count": null,
   "id": "c470146b-f907-4a2e-b14f-35598466e1bd",
   "metadata": {},
   "outputs": [],
   "source": [
    "ray.shutdown()"
   ]
  },
  {
   "cell_type": "code",
   "execution_count": null,
   "id": "e3a552ba-d2cc-4f1e-b069-4fbf3334b008",
   "metadata": {},
   "outputs": [],
   "source": []
  }
 ],
 "metadata": {
  "kernelspec": {
   "display_name": "Python 3 (ipykernel)",
   "language": "python",
   "name": "python3"
  },
  "language_info": {
   "codemirror_mode": {
    "name": "ipython",
    "version": 3
   },
   "file_extension": ".py",
   "mimetype": "text/x-python",
   "name": "python",
   "nbconvert_exporter": "python",
   "pygments_lexer": "ipython3",
   "version": "3.8.13"
  }
 },
 "nbformat": 4,
 "nbformat_minor": 5
}
