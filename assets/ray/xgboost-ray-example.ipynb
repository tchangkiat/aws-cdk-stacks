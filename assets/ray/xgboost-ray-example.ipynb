{
 "cells": [
  {
   "cell_type": "markdown",
   "id": "42e97766",
   "metadata": {},
   "source": [
    "# Install and import dependencies\n"
   ]
  },
  {
   "cell_type": "code",
   "execution_count": null,
   "id": "55764a33-49b2-4059-b69b-3191f6e59d35",
   "metadata": {},
   "outputs": [],
   "source": [
    "# Example taken from https://docs.ray.io/en/latest/train/examples/xgboost/xgboost_example.html"
   ]
  },
  {
   "cell_type": "code",
   "execution_count": null,
   "id": "6b6f1e5b-45c3-47f8-a56c-169269bbd1c7",
   "metadata": {},
   "outputs": [],
   "source": [
    "!pip install -qU \"ray[data,train,client]\"==2.34.0 xgboost_ray"
   ]
  },
  {
   "cell_type": "code",
   "execution_count": null,
   "id": "1cef6299-01d5-4cfb-97b3-cd54d47cf74d",
   "metadata": {},
   "outputs": [],
   "source": [
    "from typing import Tuple\n",
    "\n",
    "import ray\n",
    "from ray.data import Dataset, Preprocessor\n",
    "from ray.data.preprocessors import StandardScaler\n",
    "from ray.train.xgboost import XGBoostTrainer\n",
    "from ray.train import Result, ScalingConfig\n",
    "import xgboost"
   ]
  },
  {
   "cell_type": "markdown",
   "id": "5aec1c93",
   "metadata": {},
   "source": [
    "# Initiate connection to the remote Ray cluster\n"
   ]
  },
  {
   "cell_type": "code",
   "execution_count": null,
   "id": "9467a1cf-754b-4807-b9d2-8022ec80fc78",
   "metadata": {},
   "outputs": [],
   "source": [
    "ray.init(\n",
    "    address=\"ray://raycluster-head-svc.default.svc.cluster.local:10001\",\n",
    "    runtime_env={\"pip\": [\"xgboost_ray\"]},\n",
    ")"
   ]
  },
  {
   "cell_type": "markdown",
   "id": "163a6cb9",
   "metadata": {},
   "source": [
    "# Training\n"
   ]
  },
  {
   "cell_type": "code",
   "execution_count": null,
   "id": "fb56233f-0785-41b8-8d48-7a542912557c",
   "metadata": {},
   "outputs": [],
   "source": [
    "def prepare_data() -> Tuple[Dataset, Dataset, Dataset]:\n",
    "    dataset = ray.data.read_csv(\"s3://anonymous@air-example-data/breast_cancer.csv\")\n",
    "    train_dataset, valid_dataset = dataset.train_test_split(test_size=0.3)\n",
    "    test_dataset = valid_dataset.drop_columns([\"target\"])\n",
    "    return train_dataset, valid_dataset, test_dataset"
   ]
  },
  {
   "cell_type": "code",
   "execution_count": null,
   "id": "c06a8955-c145-4fad-af30-182958c700f2",
   "metadata": {},
   "outputs": [],
   "source": [
    "@ray.remote\n",
    "def train_xgboost(num_workers: int, use_gpu: bool = False) -> Result:\n",
    "    train_dataset, valid_dataset, _ = prepare_data()\n",
    "\n",
    "    # Scale some random columns\n",
    "    columns_to_scale = [\"mean radius\", \"mean texture\"]\n",
    "    preprocessor = StandardScaler(columns=columns_to_scale)\n",
    "    train_dataset = preprocessor.fit_transform(train_dataset)\n",
    "    valid_dataset = preprocessor.transform(valid_dataset)\n",
    "\n",
    "    # XGBoost specific params\n",
    "    params = {\n",
    "        \"tree_method\": \"approx\",\n",
    "        \"objective\": \"binary:logistic\",\n",
    "        \"eval_metric\": [\"logloss\", \"error\"],\n",
    "    }\n",
    "\n",
    "    trainer = XGBoostTrainer(\n",
    "        scaling_config=ScalingConfig(num_workers=num_workers, use_gpu=use_gpu),\n",
    "        label_column=\"target\",\n",
    "        params=params,\n",
    "        datasets={\"train\": train_dataset, \"valid\": valid_dataset},\n",
    "        num_boost_round=100,\n",
    "        metadata = {\"preprocessor_pkl\": preprocessor.serialize()}\n",
    "    )\n",
    "    result = trainer.fit()\n",
    "    print(result.metrics)\n",
    "\n",
    "    return result"
   ]
  },
  {
   "cell_type": "code",
   "execution_count": null,
   "id": "18c8d323-5293-4fa7-bd55-d804f051b289",
   "metadata": {},
   "outputs": [],
   "source": [
    "result = ray.get(train_xgboost.remote(num_workers=6, use_gpu=False))"
   ]
  },
  {
   "cell_type": "markdown",
   "id": "76ae3ffd",
   "metadata": {},
   "source": [
    "# Batch Inference\n"
   ]
  },
  {
   "cell_type": "code",
   "execution_count": null,
   "id": "d44d17bf-c32b-4498-bb53-d3ea986f6622",
   "metadata": {},
   "outputs": [],
   "source": [
    "import pandas as pd\n",
    "from ray.train import Checkpoint\n",
    "\n",
    "\n",
    "class Predict:\n",
    "\n",
    "    def __init__(self, checkpoint: Checkpoint):\n",
    "        self.model = XGBoostTrainer.get_model(checkpoint)\n",
    "        self.preprocessor = Preprocessor.deserialize(checkpoint.get_metadata()[\"preprocessor_pkl\"])\n",
    "\n",
    "    def __call__(self, batch: pd.DataFrame) -> pd.DataFrame:\n",
    "        preprocessed_batch = self.preprocessor.transform_batch(batch)\n",
    "        dmatrix = xgboost.DMatrix(preprocessed_batch)\n",
    "        return {\"predictions\": self.model.predict(dmatrix)}\n",
    "\n",
    "@ray.remote\n",
    "def predict_xgboost(result: Result):\n",
    "    _, _, test_dataset = prepare_data()\n",
    "\n",
    "    scores = test_dataset.map_batches(\n",
    "        Predict, \n",
    "        fn_constructor_args=[result.checkpoint], \n",
    "        concurrency=1, \n",
    "        batch_format=\"pandas\"\n",
    "    )\n",
    "    \n",
    "    predicted_labels = scores.map_batches(lambda df: (df > 0.5).astype(int), batch_format=\"pandas\")\n",
    "    print(f\"PREDICTED LABELS\")\n",
    "    predicted_labels.show()"
   ]
  },
  {
   "cell_type": "code",
   "execution_count": null,
   "id": "c5531d65-6b35-47bd-bd66-44d415048d94",
   "metadata": {},
   "outputs": [],
   "source": [
    "ray.get(prefict_xgboost.remote(result))"
   ]
  },
  {
   "cell_type": "markdown",
   "id": "00aa2b90",
   "metadata": {},
   "source": [
    "# Clean up"
   ]
  },
  {
   "cell_type": "code",
   "execution_count": null,
   "id": "c470146b-f907-4a2e-b14f-35598466e1bd",
   "metadata": {},
   "outputs": [],
   "source": [
    "ray.shutdown()"
   ]
  }
 ],
 "metadata": {
  "kernelspec": {
   "display_name": "Python 3 (ipykernel)",
   "language": "python",
   "name": "python3"
  },
  "language_info": {
   "codemirror_mode": {
    "name": "ipython",
    "version": 3
   },
   "file_extension": ".py",
   "mimetype": "text/x-python",
   "name": "python",
   "nbconvert_exporter": "python",
   "pygments_lexer": "ipython3",
   "version": "3.9.13"
  }
 },
 "nbformat": 4,
 "nbformat_minor": 5
}
