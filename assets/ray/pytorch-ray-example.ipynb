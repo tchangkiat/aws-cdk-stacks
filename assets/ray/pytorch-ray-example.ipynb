{
 "cells": [
  {
   "cell_type": "raw",
   "id": "c17b7c2f-6906-44b6-8d1e-7658d32fffab",
   "metadata": {},
   "source": [
    "# Source: https://docs.ray.io/en/latest/train/examples/pytorch/torch_fashion_mnist_example.html"
   ]
  },
  {
   "cell_type": "markdown",
   "id": "67809474-f373-41c8-b2cb-0d2ddf7fb1ad",
   "metadata": {},
   "source": [
    "# Install dependencies\n"
   ]
  },
  {
   "cell_type": "code",
   "execution_count": 1,
   "id": "c7f4ea59-d722-441b-a80d-21f2d9be8425",
   "metadata": {},
   "outputs": [],
   "source": [
    "!pip install -qU torch==2.4.0 torchvision==0.19.0 \"ray[client,train]\"==2.34.0"
   ]
  },
  {
   "cell_type": "markdown",
   "id": "1eac657a-d7dc-49cf-985f-4568e1647223",
   "metadata": {},
   "source": [
    "# Import dependencies\n"
   ]
  },
  {
   "cell_type": "code",
   "execution_count": 2,
   "id": "42cd26a5-445f-414e-b4d5-a364c5d77cca",
   "metadata": {},
   "outputs": [],
   "source": [
    "import os\n",
    "from typing import Dict\n",
    "\n",
    "import torch\n",
    "from filelock import FileLock\n",
    "from torch import nn\n",
    "from torch.utils.data import DataLoader\n",
    "from torchvision import datasets, transforms\n",
    "from torchvision.transforms import Normalize, ToTensor\n",
    "\n",
    "import ray\n",
    "import ray.train\n",
    "from ray.train import ScalingConfig\n",
    "from ray.train.torch import TorchTrainer"
   ]
  },
  {
   "cell_type": "markdown",
   "id": "97e64221-42a7-4e7d-987f-7c6cdd80e873",
   "metadata": {},
   "source": [
    "# Define functions\n"
   ]
  },
  {
   "cell_type": "code",
   "execution_count": 3,
   "id": "4e95cc48-9ac5-4155-9761-32c619c3a6f8",
   "metadata": {},
   "outputs": [],
   "source": [
    "def get_dataloaders(batch_size):\n",
    "    # Transform to normalize the input images\n",
    "    transform = transforms.Compose([ToTensor(), Normalize((0.5,), (0.5,))])\n",
    "\n",
    "    with FileLock(os.path.expanduser(\"~/data.lock\")):\n",
    "        # Download training data from open datasets\n",
    "        training_data = datasets.FashionMNIST(\n",
    "            root=\"~/data\",\n",
    "            train=True,\n",
    "            download=True,\n",
    "            transform=transform,\n",
    "        )\n",
    "\n",
    "        # Download test data from open datasets\n",
    "        test_data = datasets.FashionMNIST(\n",
    "            root=\"~/data\",\n",
    "            train=False,\n",
    "            download=True,\n",
    "            transform=transform,\n",
    "        )\n",
    "\n",
    "    # Create data loaders\n",
    "    train_dataloader = DataLoader(training_data, batch_size=batch_size, shuffle=True)\n",
    "    test_dataloader = DataLoader(test_data, batch_size=batch_size)\n",
    "\n",
    "    return train_dataloader, test_dataloader\n",
    "\n",
    "\n",
    "# Model Definition\n",
    "class NeuralNetwork(nn.Module):\n",
    "    def __init__(self):\n",
    "        super(NeuralNetwork, self).__init__()\n",
    "        self.flatten = nn.Flatten()\n",
    "        self.linear_relu_stack = nn.Sequential(\n",
    "            nn.Linear(28 * 28, 512),\n",
    "            nn.ReLU(),\n",
    "            nn.Dropout(0.25),\n",
    "            nn.Linear(512, 512),\n",
    "            nn.ReLU(),\n",
    "            nn.Dropout(0.25),\n",
    "            nn.Linear(512, 10),\n",
    "            nn.ReLU(),\n",
    "        )\n",
    "\n",
    "    def forward(self, x):\n",
    "        x = self.flatten(x)\n",
    "        logits = self.linear_relu_stack(x)\n",
    "        return logits\n",
    "\n",
    "\n",
    "def train_func_per_worker(config: Dict):\n",
    "    lr = config[\"lr\"]\n",
    "    epochs = config[\"epochs\"]\n",
    "    batch_size = config[\"batch_size_per_worker\"]\n",
    "\n",
    "    # Get dataloaders inside the worker training function\n",
    "    train_dataloader, test_dataloader = get_dataloaders(batch_size=batch_size)\n",
    "\n",
    "    # [1] Prepare Dataloader for distributed training\n",
    "    # Shard the datasets among workers and move batches to the correct device\n",
    "    # =======================================================================\n",
    "    train_dataloader = ray.train.torch.prepare_data_loader(train_dataloader)\n",
    "    test_dataloader = ray.train.torch.prepare_data_loader(test_dataloader)\n",
    "\n",
    "    model = NeuralNetwork()\n",
    "\n",
    "    # [2] Prepare and wrap your model with DistributedDataParallel\n",
    "    # Move the model to the correct GPU/CPU device\n",
    "    # ============================================================\n",
    "    model = ray.train.torch.prepare_model(model)\n",
    "\n",
    "    loss_fn = nn.CrossEntropyLoss()\n",
    "    optimizer = torch.optim.SGD(model.parameters(), lr=lr, momentum=0.9)\n",
    "\n",
    "    # Model training loop\n",
    "    for epoch in range(epochs):\n",
    "        if ray.train.get_context().get_world_size() > 1:\n",
    "            # Required for the distributed sampler to shuffle properly across epochs.\n",
    "            train_dataloader.sampler.set_epoch(epoch)\n",
    "\n",
    "        model.train()\n",
    "        print(f\"Train Epoch {epoch}\")\n",
    "        for X, y in train_dataloader:\n",
    "            pred = model(X)\n",
    "            loss = loss_fn(pred, y)\n",
    "\n",
    "            optimizer.zero_grad()\n",
    "            loss.backward()\n",
    "            optimizer.step()\n",
    "\n",
    "        model.eval()\n",
    "        test_loss, num_correct, num_total = 0, 0, 0\n",
    "        with torch.no_grad():\n",
    "            print(f\"Test Epoch {epoch}\")\n",
    "            for X, y in test_dataloader:\n",
    "                pred = model(X)\n",
    "                loss = loss_fn(pred, y)\n",
    "\n",
    "                test_loss += loss.item()\n",
    "                num_total += y.shape[0]\n",
    "                num_correct += (pred.argmax(1) == y).sum().item()\n",
    "\n",
    "        test_loss /= len(test_dataloader)\n",
    "        accuracy = num_correct / num_total\n",
    "\n",
    "        # [3] Report metrics to Ray Train\n",
    "        # ===============================\n",
    "        ray.train.report(metrics={\"loss\": test_loss, \"accuracy\": accuracy})\n",
    "\n",
    "\n",
    "@ray.remote\n",
    "def train_fashion_mnist(num_workers=2, use_gpu=False):\n",
    "    global_batch_size = 32\n",
    "\n",
    "    train_config = {\n",
    "        \"lr\": 1e-3,\n",
    "        \"epochs\": 10,\n",
    "        \"batch_size_per_worker\": global_batch_size // num_workers,\n",
    "    }\n",
    "\n",
    "    # Configure computation resources\n",
    "    scaling_config = ScalingConfig(num_workers=num_workers, use_gpu=use_gpu)\n",
    "\n",
    "    # Initialize a Ray TorchTrainer\n",
    "    trainer = TorchTrainer(\n",
    "        train_loop_per_worker=train_func_per_worker,\n",
    "        train_loop_config=train_config,\n",
    "        scaling_config=scaling_config,\n",
    "    )\n",
    "\n",
    "    # [4] Start distributed training\n",
    "    # Run `train_func_per_worker` on all workers\n",
    "    # =============================================\n",
    "    result = trainer.fit()\n",
    "    print(f\"Training result: {result}\")"
   ]
  },
  {
   "cell_type": "markdown",
   "id": "643fa40e-e6e2-4988-98f7-003d2df58fe3",
   "metadata": {},
   "source": [
    "# Connect to Ray Cluster\n"
   ]
  },
  {
   "cell_type": "code",
   "execution_count": 4,
   "id": "586a8f3a-377e-4716-9805-9da857562fa1",
   "metadata": {},
   "outputs": [
    {
     "name": "stderr",
     "output_type": "stream",
     "text": [
      "SIGTERM handler is not set because current thread is not the main thread.\n",
      "2024-08-21 02:16:15,236\tWARNING utils.py:1591 -- Python patch version mismatch: The cluster was started with:\n",
      "    Ray: 2.34.0\n",
      "    Python: 3.9.19\n",
      "This process on Ray Client was started with:\n",
      "    Ray: 2.34.0\n",
      "    Python: 3.9.13\n",
      "\n"
     ]
    },
    {
     "data": {
      "application/vnd.jupyter.widget-view+json": {
       "model_id": "e54e24cc4d934da78932dcb5c7eb6ee3",
       "version_major": 2,
       "version_minor": 0
      },
      "text/html": [
       "<div class=\"lm-Widget p-Widget lm-Panel p-Panel jp-Cell-outputWrapper\">\n",
       "    <div style=\"margin-left: 50px;display: flex;flex-direction: row;align-items: center\">\n",
       "        <div class=\"jp-RenderedHTMLCommon\" style=\"display: flex; flex-direction: row;\">\n",
       "  <svg viewBox=\"0 0 567 224\" fill=\"none\" xmlns=\"http://www.w3.org/2000/svg\" style=\"height: 3em;\">\n",
       "    <g clip-path=\"url(#clip0_4338_178347)\">\n",
       "        <path d=\"M341.29 165.561H355.29L330.13 129.051C345.63 123.991 354.21 112.051 354.21 94.2307C354.21 71.3707 338.72 58.1807 311.88 58.1807H271V165.561H283.27V131.661H311.8C314.25 131.661 316.71 131.501 319.01 131.351L341.25 165.561H341.29ZM283.29 119.851V70.0007H311.82C331.3 70.0007 342.34 78.2907 342.34 94.5507C342.34 111.271 331.34 119.861 311.82 119.861L283.29 119.851ZM451.4 138.411L463.4 165.561H476.74L428.74 58.1807H416L367.83 165.561H380.83L392.83 138.411H451.4ZM446.19 126.601H398L422 72.1407L446.24 126.601H446.19ZM526.11 128.741L566.91 58.1807H554.35L519.99 114.181L485.17 58.1807H472.44L514.01 129.181V165.541H526.13V128.741H526.11Z\" fill=\"var(--jp-ui-font-color0)\"/>\n",
       "        <path d=\"M82.35 104.44C84.0187 97.8827 87.8248 92.0678 93.1671 87.9146C98.5094 83.7614 105.083 81.5067 111.85 81.5067C118.617 81.5067 125.191 83.7614 130.533 87.9146C135.875 92.0678 139.681 97.8827 141.35 104.44H163.75C164.476 101.562 165.622 98.8057 167.15 96.2605L127.45 56.5605C121.071 60.3522 113.526 61.6823 106.235 60.3005C98.9443 58.9187 92.4094 54.9203 87.8602 49.0574C83.3109 43.1946 81.0609 35.8714 81.5332 28.4656C82.0056 21.0599 85.1679 14.0819 90.4252 8.8446C95.6824 3.60726 102.672 0.471508 110.08 0.0272655C117.487 -0.416977 124.802 1.86091 130.647 6.4324C136.493 11.0039 140.467 17.5539 141.821 24.8501C143.175 32.1463 141.816 39.6859 138 46.0505L177.69 85.7505C182.31 82.9877 187.58 81.4995 192.962 81.4375C198.345 81.3755 203.648 82.742 208.33 85.3976C213.012 88.0532 216.907 91.9029 219.616 96.5544C222.326 101.206 223.753 106.492 223.753 111.875C223.753 117.258 222.326 122.545 219.616 127.197C216.907 131.848 213.012 135.698 208.33 138.353C203.648 141.009 198.345 142.375 192.962 142.313C187.58 142.251 182.31 140.763 177.69 138L138 177.7C141.808 184.071 143.155 191.614 141.79 198.91C140.424 206.205 136.44 212.75 130.585 217.313C124.731 221.875 117.412 224.141 110.004 223.683C102.596 223.226 95.6103 220.077 90.3621 214.828C85.1139 209.58 81.9647 202.595 81.5072 195.187C81.0497 187.779 83.3154 180.459 87.878 174.605C92.4405 168.751 98.9853 164.766 106.281 163.401C113.576 162.035 121.119 163.383 127.49 167.19L167.19 127.49C165.664 124.941 164.518 122.182 163.79 119.3H141.39C139.721 125.858 135.915 131.673 130.573 135.826C125.231 139.98 118.657 142.234 111.89 142.234C105.123 142.234 98.5494 139.98 93.2071 135.826C87.8648 131.673 84.0587 125.858 82.39 119.3H60C58.1878 126.495 53.8086 132.78 47.6863 136.971C41.5641 141.163 34.1211 142.972 26.7579 142.059C19.3947 141.146 12.6191 137.574 7.70605 132.014C2.79302 126.454 0.0813599 119.29 0.0813599 111.87C0.0813599 104.451 2.79302 97.2871 7.70605 91.7272C12.6191 86.1673 19.3947 82.5947 26.7579 81.6817C34.1211 80.7686 41.5641 82.5781 47.6863 86.7696C53.8086 90.9611 58.1878 97.2456 60 104.44H82.35ZM100.86 204.32C103.407 206.868 106.759 208.453 110.345 208.806C113.93 209.159 117.527 208.258 120.522 206.256C123.517 204.254 125.725 201.276 126.771 197.828C127.816 194.38 127.633 190.677 126.253 187.349C124.874 184.021 122.383 181.274 119.205 179.577C116.027 177.88 112.359 177.337 108.826 178.042C105.293 178.746 102.113 180.654 99.8291 183.44C97.5451 186.226 96.2979 189.718 96.3 193.32C96.2985 195.364 96.7006 197.388 97.4831 199.275C98.2656 201.163 99.4132 202.877 100.86 204.32ZM204.32 122.88C206.868 120.333 208.453 116.981 208.806 113.396C209.159 109.811 208.258 106.214 206.256 103.219C204.254 100.223 201.275 98.0151 197.827 96.97C194.38 95.9249 190.676 96.1077 187.348 97.4873C184.02 98.8669 181.274 101.358 179.577 104.536C177.879 107.714 177.337 111.382 178.041 114.915C178.746 118.448 180.653 121.627 183.439 123.911C186.226 126.195 189.717 127.443 193.32 127.44C195.364 127.443 197.388 127.042 199.275 126.259C201.163 125.476 202.878 124.328 204.32 122.88ZM122.88 19.4205C120.333 16.8729 116.981 15.2876 113.395 14.9347C109.81 14.5817 106.213 15.483 103.218 17.4849C100.223 19.4868 98.0146 22.4654 96.9696 25.9131C95.9245 29.3608 96.1073 33.0642 97.4869 36.3922C98.8665 39.7202 101.358 42.4668 104.535 44.1639C107.713 45.861 111.381 46.4036 114.914 45.6992C118.447 44.9949 121.627 43.0871 123.911 40.301C126.195 37.515 127.442 34.0231 127.44 30.4205C127.44 28.3772 127.038 26.3539 126.255 24.4664C125.473 22.5788 124.326 20.8642 122.88 19.4205ZM19.42 100.86C16.8725 103.408 15.2872 106.76 14.9342 110.345C14.5813 113.93 15.4826 117.527 17.4844 120.522C19.4863 123.518 22.4649 125.726 25.9127 126.771C29.3604 127.816 33.0638 127.633 36.3918 126.254C39.7198 124.874 42.4664 122.383 44.1635 119.205C45.8606 116.027 46.4032 112.359 45.6988 108.826C44.9944 105.293 43.0866 102.114 40.3006 99.8296C37.5145 97.5455 34.0227 96.2983 30.42 96.3005C26.2938 96.3018 22.337 97.9421 19.42 100.86ZM100.86 100.86C98.3125 103.408 96.7272 106.76 96.3742 110.345C96.0213 113.93 96.9226 117.527 98.9244 120.522C100.926 123.518 103.905 125.726 107.353 126.771C110.8 127.816 114.504 127.633 117.832 126.254C121.16 124.874 123.906 122.383 125.604 119.205C127.301 116.027 127.843 112.359 127.139 108.826C126.434 105.293 124.527 102.114 121.741 99.8296C118.955 97.5455 115.463 96.2983 111.86 96.3005C109.817 96.299 107.793 96.701 105.905 97.4835C104.018 98.2661 102.303 99.4136 100.86 100.86Z\" fill=\"#00AEEF\"/>\n",
       "    </g>\n",
       "    <defs>\n",
       "        <clipPath id=\"clip0_4338_178347\">\n",
       "            <rect width=\"566.93\" height=\"223.75\" fill=\"white\"/>\n",
       "        </clipPath>\n",
       "    </defs>\n",
       "  </svg>\n",
       "</div>\n",
       "\n",
       "        <table class=\"jp-RenderedHTMLCommon\" style=\"border-collapse: collapse;color: var(--jp-ui-font-color1);font-size: var(--jp-ui-font-size1);\">\n",
       "    <tr>\n",
       "        <td style=\"text-align: left\"><b>Python version:</b></td>\n",
       "        <td style=\"text-align: left\"><b>3.9.19</b></td>\n",
       "    </tr>\n",
       "    <tr>\n",
       "        <td style=\"text-align: left\"><b>Ray version:</b></td>\n",
       "        <td style=\"text-align: left\"><b>2.34.0</b></td>\n",
       "    </tr>\n",
       "    <tr>\n",
       "    <td style=\"text-align: left\"><b>Dashboard:</b></td>\n",
       "    <td style=\"text-align: left\"><b><a href=\"http://10.0.3.163:8265\" target=\"_blank\">http://10.0.3.163:8265</a></b></td>\n",
       "</tr>\n",
       "\n",
       "</table>\n",
       "\n",
       "    </div>\n",
       "</div>\n"
      ],
      "text/plain": [
       "ClientContext(dashboard_url='10.0.3.163:8265', python_version='3.9.19', ray_version='2.34.0', ray_commit='fc87217e031b4e551cbb3d3ffc75f8c0fb57886a', _num_clients=1, _context_to_restore=<ray.util.client._ClientContext object at 0x7ffa45094820>, protocol_version=None)"
      ]
     },
     "execution_count": 4,
     "metadata": {},
     "output_type": "execute_result"
    }
   ],
   "source": [
    "ray.init(\n",
    "    address=\"ray://raycluster-head-svc.default.svc.cluster.local:10001\",\n",
    "    runtime_env={\"pip\": [\"torch==2.4.0\", \"torchvision==0.19.0\"]},\n",
    ")"
   ]
  },
  {
   "cell_type": "markdown",
   "id": "8870839e-2ca1-42b2-93d7-3ec39fa8e9b4",
   "metadata": {},
   "source": [
    "# Train model remotely\n"
   ]
  },
  {
   "cell_type": "code",
   "execution_count": 5,
   "id": "4f858f51-172b-4dcf-826d-0aecb3be0171",
   "metadata": {},
   "outputs": [
    {
     "name": "stdout",
     "output_type": "stream",
     "text": [
      "\u001b[36m(autoscaler +4s)\u001b[0m Tip: use `ray status` to view detailed cluster status. To disable these messages, set RAY_SCHEDULER_EVENTS=0.\n",
      "\u001b[36m(autoscaler +4s)\u001b[0m Adding 1 node(s) of type small-group.\n",
      "\u001b[36m(autoscaler +4s)\u001b[0m Resized to 7 CPUs.\n",
      "\u001b[36m(train_fashion_mnist pid=408, ip=10.0.2.19)\u001b[0m \n",
      "\u001b[36m(train_fashion_mnist pid=408, ip=10.0.2.19)\u001b[0m View detailed results here: /home/ray/ray_results/TorchTrainer_2024-08-20_19-17-58\n",
      "\u001b[36m(train_fashion_mnist pid=408, ip=10.0.2.19)\u001b[0m To visualize your results with TensorBoard, run: `tensorboard --logdir /tmp/ray/session_2024-08-20_19-13-24_762089_1/artifacts/2024-08-20_19-17-58/TorchTrainer_2024-08-20_19-17-58/driver_artifacts`\n",
      "\u001b[36m(autoscaler +1m46s)\u001b[0m Adding 1 node(s) of type small-group.\n",
      "\u001b[36m(autoscaler +1m46s)\u001b[0m Resized to 14 CPUs.\n",
      "\u001b[36m(autoscaler +1m46s)\u001b[0m No available node types can fulfill resource requests {'bundle_group_e892fc3524f8dc4017035d6d0aab02000000': 0.001}*1. Add suitable node types to this cluster to resolve this issue.\n",
      "\u001b[36m(autoscaler +1m51s)\u001b[0m No available node types can fulfill resource requests {'bundle_group_e892fc3524f8dc4017035d6d0aab02000000': 0.001}*1. Add suitable node types to this cluster to resolve this issue.\n",
      "\u001b[36m(autoscaler +1m56s)\u001b[0m No available node types can fulfill resource requests {'bundle_group_e892fc3524f8dc4017035d6d0aab02000000': 0.001}*1. Add suitable node types to this cluster to resolve this issue.\n",
      "\u001b[36m(autoscaler +2m2s)\u001b[0m No available node types can fulfill resource requests {'bundle_group_e892fc3524f8dc4017035d6d0aab02000000': 0.001}*1. Add suitable node types to this cluster to resolve this issue.\n",
      "\u001b[36m(autoscaler +2m7s)\u001b[0m No available node types can fulfill resource requests {'bundle_group_e892fc3524f8dc4017035d6d0aab02000000': 0.001}*1. Add suitable node types to this cluster to resolve this issue.\n",
      "\u001b[36m(autoscaler +2m12s)\u001b[0m No available node types can fulfill resource requests {'bundle_group_e892fc3524f8dc4017035d6d0aab02000000': 0.001}*1. Add suitable node types to this cluster to resolve this issue.\n",
      "\u001b[36m(autoscaler +2m17s)\u001b[0m No available node types can fulfill resource requests {'bundle_group_e892fc3524f8dc4017035d6d0aab02000000': 0.001}*1. Add suitable node types to this cluster to resolve this issue.\n",
      "\u001b[36m(autoscaler +2m22s)\u001b[0m No available node types can fulfill resource requests {'bundle_group_e892fc3524f8dc4017035d6d0aab02000000': 0.001}*1. Add suitable node types to this cluster to resolve this issue.\n",
      "\u001b[36m(autoscaler +2m27s)\u001b[0m No available node types can fulfill resource requests {'bundle_group_e892fc3524f8dc4017035d6d0aab02000000': 0.001}*1. Add suitable node types to this cluster to resolve this issue.\n",
      "\u001b[36m(autoscaler +2m32s)\u001b[0m No available node types can fulfill resource requests {'bundle_group_e892fc3524f8dc4017035d6d0aab02000000': 0.001}*1. Add suitable node types to this cluster to resolve this issue.\n",
      "\u001b[36m(autoscaler +2m37s)\u001b[0m No available node types can fulfill resource requests {'bundle_group_e892fc3524f8dc4017035d6d0aab02000000': 0.001}*1. Add suitable node types to this cluster to resolve this issue.\n",
      "\u001b[36m(autoscaler +2m42s)\u001b[0m No available node types can fulfill resource requests {'bundle_group_e892fc3524f8dc4017035d6d0aab02000000': 0.001}*1. Add suitable node types to this cluster to resolve this issue.\n"
     ]
    },
    {
     "name": "stderr",
     "output_type": "stream",
     "text": [
      "\u001b[36m(train_fashion_mnist pid=408, ip=10.0.2.19)\u001b[0m Ignore this message if the cluster is autoscaling. Training has not started in the last 60 seconds. This could be due to the cluster not having enough resources available. You asked for 8.0 CPUs and 0 GPUs, but the cluster only has 7.0 CPUs and 0 GPUs available. Stop the training and adjust the required resources (e.g. via the `ScalingConfig` or `resources_per_trial`, or `num_workers` for rllib), or add more resources to your cluster.\n"
     ]
    },
    {
     "name": "stdout",
     "output_type": "stream",
     "text": [
      "\u001b[36m(autoscaler +2m47s)\u001b[0m No available node types can fulfill resource requests {'bundle_group_e892fc3524f8dc4017035d6d0aab02000000': 0.001}*1. Add suitable node types to this cluster to resolve this issue.\n",
      "\u001b[36m(autoscaler +2m53s)\u001b[0m No available node types can fulfill resource requests {'bundle_group_e892fc3524f8dc4017035d6d0aab02000000': 0.001}*1. Add suitable node types to this cluster to resolve this issue.\n",
      "\u001b[36m(autoscaler +2m58s)\u001b[0m No available node types can fulfill resource requests {'bundle_group_e892fc3524f8dc4017035d6d0aab02000000': 0.001}*1. Add suitable node types to this cluster to resolve this issue.\n",
      "\u001b[36m(autoscaler +3m3s)\u001b[0m No available node types can fulfill resource requests {'bundle_group_e892fc3524f8dc4017035d6d0aab02000000': 0.001}*1. Add suitable node types to this cluster to resolve this issue.\n",
      "\u001b[36m(autoscaler +3m8s)\u001b[0m No available node types can fulfill resource requests {'bundle_group_e892fc3524f8dc4017035d6d0aab02000000': 0.001}*1. Add suitable node types to this cluster to resolve this issue.\n",
      "\u001b[36m(train_fashion_mnist pid=408, ip=10.0.2.19)\u001b[0m \n",
      "\u001b[36m(train_fashion_mnist pid=408, ip=10.0.2.19)\u001b[0m Training started with configuration:\n",
      "\u001b[36m(train_fashion_mnist pid=408, ip=10.0.2.19)\u001b[0m ╭─────────────────────────────────────────────────╮\n",
      "\u001b[36m(train_fashion_mnist pid=408, ip=10.0.2.19)\u001b[0m │ Training config                                 │\n",
      "\u001b[36m(train_fashion_mnist pid=408, ip=10.0.2.19)\u001b[0m ├─────────────────────────────────────────────────┤\n",
      "\u001b[36m(train_fashion_mnist pid=408, ip=10.0.2.19)\u001b[0m │ train_loop_config/batch_size_per_worker       4 │\n",
      "\u001b[36m(train_fashion_mnist pid=408, ip=10.0.2.19)\u001b[0m │ train_loop_config/epochs                     10 │\n",
      "\u001b[36m(train_fashion_mnist pid=408, ip=10.0.2.19)\u001b[0m │ train_loop_config/lr                      0.001 │\n",
      "\u001b[36m(train_fashion_mnist pid=408, ip=10.0.2.19)\u001b[0m ╰─────────────────────────────────────────────────╯\n"
     ]
    },
    {
     "name": "stderr",
     "output_type": "stream",
     "text": [
      "\u001b[36m(RayTrainWorker pid=470, ip=10.0.2.35)\u001b[0m Setting up process group for: env:// [rank=0, world_size=7]\n",
      "\u001b[36m(TorchTrainer pid=424, ip=10.0.2.35)\u001b[0m Started distributed worker processes: \n",
      "\u001b[36m(TorchTrainer pid=424, ip=10.0.2.35)\u001b[0m - (node_id=bf8b5e9e63623249cba282fa3469c5db6f49cb8d6e42b7f6b017d38b, ip=10.0.2.35, pid=470) world_rank=0, local_rank=0, node_rank=0\n",
      "\u001b[36m(TorchTrainer pid=424, ip=10.0.2.35)\u001b[0m - (node_id=bf8b5e9e63623249cba282fa3469c5db6f49cb8d6e42b7f6b017d38b, ip=10.0.2.35, pid=471) world_rank=1, local_rank=1, node_rank=0\n",
      "\u001b[36m(TorchTrainer pid=424, ip=10.0.2.35)\u001b[0m - (node_id=bf8b5e9e63623249cba282fa3469c5db6f49cb8d6e42b7f6b017d38b, ip=10.0.2.35, pid=472) world_rank=2, local_rank=2, node_rank=0\n",
      "\u001b[36m(TorchTrainer pid=424, ip=10.0.2.35)\u001b[0m - (node_id=bf8b5e9e63623249cba282fa3469c5db6f49cb8d6e42b7f6b017d38b, ip=10.0.2.35, pid=473) world_rank=3, local_rank=3, node_rank=0\n",
      "\u001b[36m(TorchTrainer pid=424, ip=10.0.2.35)\u001b[0m - (node_id=bf8b5e9e63623249cba282fa3469c5db6f49cb8d6e42b7f6b017d38b, ip=10.0.2.35, pid=474) world_rank=4, local_rank=4, node_rank=0\n",
      "\u001b[36m(TorchTrainer pid=424, ip=10.0.2.35)\u001b[0m - (node_id=bf8b5e9e63623249cba282fa3469c5db6f49cb8d6e42b7f6b017d38b, ip=10.0.2.35, pid=475) world_rank=5, local_rank=5, node_rank=0\n",
      "\u001b[36m(TorchTrainer pid=424, ip=10.0.2.35)\u001b[0m - (node_id=b87f13ddd3eb910af962a0af12f2d152d963e34bb3c0eeccf04acf2f, ip=10.0.2.19, pid=1087) world_rank=6, local_rank=0, node_rank=1\n"
     ]
    },
    {
     "name": "stdout",
     "output_type": "stream",
     "text": [
      "\u001b[36m(RayTrainWorker pid=1087, ip=10.0.2.19)\u001b[0m Downloading http://fashion-mnist.s3-website.eu-central-1.amazonaws.com/train-images-idx3-ubyte.gz\n",
      "\u001b[36m(RayTrainWorker pid=471, ip=10.0.2.35)\u001b[0m Downloading http://fashion-mnist.s3-website.eu-central-1.amazonaws.com/train-images-idx3-ubyte.gz\n",
      "\u001b[36m(RayTrainWorker pid=471, ip=10.0.2.35)\u001b[0m Downloading http://fashion-mnist.s3-website.eu-central-1.amazonaws.com/train-images-idx3-ubyte.gz to /home/ray/data/FashionMNIST/raw/train-images-idx3-ubyte.gz\n",
      "\u001b[36m(RayTrainWorker pid=1087, ip=10.0.2.19)\u001b[0m Downloading http://fashion-mnist.s3-website.eu-central-1.amazonaws.com/train-images-idx3-ubyte.gz to /home/ray/data/FashionMNIST/raw/train-images-idx3-ubyte.gz\n"
     ]
    },
    {
     "name": "stderr",
     "output_type": "stream",
     "text": [
      "  0%|          | 0/26421880 [00:00<?, ?it/s]\u001b[0m \n",
      "  0%|          | 0/26421880 [00:00<?, ?it/s][0m \n",
      "  0%|          | 32768/26421880 [00:00<02:06, 208990.35it/s]\n",
      "  0%|          | 32768/26421880 [00:00<02:05, 210481.51it/s]\n",
      "  0%|          | 65536/26421880 [00:00<02:05, 209982.31it/s]\n",
      "  0%|          | 65536/26421880 [00:00<02:06, 208011.67it/s]\n",
      "  0%|          | 131072/26421880 [00:00<01:26, 302455.75it/s]\n",
      "  0%|          | 98304/26421880 [00:00<02:05, 209298.87it/s]\n",
      "  0%|          | 131072/26421880 [00:00<02:05, 208967.28it/s]\n",
      "  1%|          | 229376/26421880 [00:00<01:01, 428802.07it/s]\n",
      "  2%|▏         | 458752/26421880 [00:00<00:32, 797639.48it/s]\n",
      "  1%|          | 196608/26421880 [00:00<01:32, 283324.42it/s]\n",
      "  4%|▎         | 950272/26421880 [00:00<00:16, 1583683.48it/s]\n",
      "  1%|          | 229376/26421880 [00:00<01:40, 259364.56it/s]\n",
      "  7%|▋         | 1867776/26421880 [00:01<00:08, 2963513.31it/s]\n",
      "  1%|          | 294912/26421880 [00:01<01:23, 311190.45it/s]\n",
      " 13%|█▎        | 3473408/26421880 [00:01<00:04, 5252787.12it/s]\n",
      "  2%|▏         | 458752/26421880 [00:01<00:47, 544941.70it/s]\n",
      "  3%|▎         | 753664/26421880 [00:01<00:26, 962006.70it/s]\n",
      " 19%|█▉        | 5079040/26421880 [00:01<00:03, 6782144.51it/s]\n",
      " 25%|██▌       | 6684672/26421880 [00:01<00:02, 7820177.64it/s]\n",
      "  4%|▍         | 1179648/26421880 [00:01<00:16, 1504746.85it/s]\n",
      "  6%|▌         | 1638400/26421880 [00:01<00:12, 1939545.14it/s]\n",
      " 31%|███▏      | 8290304/26421880 [00:01<00:02, 8531725.90it/s]\n",
      " 38%|███▊      | 9961472/26421880 [00:01<00:01, 9148586.52it/s]\n",
      "  8%|▊         | 2129920/26421880 [00:01<00:10, 2302371.67it/s]\n",
      " 10%|▉         | 2621440/26421880 [00:02<00:09, 2554644.10it/s]\n",
      " 44%|████▍     | 11632640/26421880 [00:02<00:01, 9577468.74it/s]\n",
      " 50%|█████     | 13303808/26421880 [00:02<00:01, 9875107.97it/s]\n",
      " 12%|█▏        | 3145728/26421880 [00:02<00:08, 2792629.98it/s]\n",
      " 14%|█▍        | 3670016/26421880 [00:02<00:07, 2959376.28it/s]\n",
      " 57%|█████▋    | 15007744/26421880 [00:02<00:01, 10140967.53it/s]\n",
      " 63%|██████▎   | 16711680/26421880 [00:02<00:00, 10328565.80it/s]\n",
      " 16%|█▌        | 4259840/26421880 [00:02<00:06, 3199219.99it/s]\n",
      " 70%|██████▉   | 18382848/26421880 [00:02<00:00, 10420137.26it/s]\n",
      " 18%|█▊        | 4849664/26421880 [00:02<00:06, 3368705.60it/s]\n",
      " 21%|██        | 5505024/26421880 [00:02<00:05, 3611253.22it/s]\n",
      " 76%|███████▌  | 20086784/26421880 [00:02<00:00, 10508534.23it/s]\n",
      " 83%|████████▎ | 21823488/26421880 [00:03<00:00, 10642643.04it/s]\n",
      " 23%|██▎       | 6160384/26421880 [00:02<00:05, 3782212.42it/s]\n",
      " 26%|██▌       | 6848512/26421880 [00:03<00:04, 4054781.55it/s]\n",
      " 89%|████████▉ | 23560192/26421880 [00:03<00:00, 10736284.57it/s]\n",
      "100%|██████████| 26421880/26421880 [00:03<00:00, 7942615.29it/s] \n",
      " 29%|██▉       | 7602176/26421880 [00:03<00:04, 4187407.48it/s]\n",
      " 32%|███▏      | 8355840/26421880 [00:03<00:04, 4470551.35it/s]\n"
     ]
    },
    {
     "name": "stdout",
     "output_type": "stream",
     "text": [
      "\u001b[36m(RayTrainWorker pid=471, ip=10.0.2.35)\u001b[0m Extracting /home/ray/data/FashionMNIST/raw/train-images-idx3-ubyte.gz to /home/ray/data/FashionMNIST/raw\n"
     ]
    },
    {
     "name": "stderr",
     "output_type": "stream",
     "text": [
      " 35%|███▍      | 9175040/26421880 [00:03<00:03, 4596726.09it/s]\n",
      " 38%|███▊      | 10027008/26421880 [00:03<00:03, 4845880.11it/s]\n"
     ]
    },
    {
     "name": "stdout",
     "output_type": "stream",
     "text": [
      "\u001b[36m(RayTrainWorker pid=471, ip=10.0.2.35)\u001b[0m \n",
      "\u001b[36m(RayTrainWorker pid=471, ip=10.0.2.35)\u001b[0m Downloading http://fashion-mnist.s3-website.eu-central-1.amazonaws.com/train-labels-idx1-ubyte.gz\n"
     ]
    },
    {
     "name": "stderr",
     "output_type": "stream",
     "text": [
      " 41%|████▏     | 10911744/26421880 [00:03<00:02, 5196569.64it/s]\n",
      " 45%|████▍     | 11829248/26421880 [00:04<00:02, 5863595.76it/s]\n"
     ]
    },
    {
     "name": "stdout",
     "output_type": "stream",
     "text": [
      "\u001b[36m(RayTrainWorker pid=471, ip=10.0.2.35)\u001b[0m Downloading http://fashion-mnist.s3-website.eu-central-1.amazonaws.com/train-labels-idx1-ubyte.gz to /home/ray/data/FashionMNIST/raw/train-labels-idx1-ubyte.gz\n"
     ]
    },
    {
     "name": "stderr",
     "output_type": "stream",
     "text": [
      " 48%|████▊     | 12812288/26421880 [00:04<00:02, 5992169.20it/s]\n",
      "  0%|          | 0/29515 [00:00<?, ?it/s]5)\u001b[0m \n",
      " 52%|█████▏    | 13860864/26421880 [00:04<00:02, 5736488.12it/s]\n",
      "100%|██████████| 29515/29515 [00:00<00:00, 188528.36it/s]\n"
     ]
    },
    {
     "name": "stdout",
     "output_type": "stream",
     "text": [
      "\u001b[36m(RayTrainWorker pid=471, ip=10.0.2.35)\u001b[0m Extracting /home/ray/data/FashionMNIST/raw/train-labels-idx1-ubyte.gz to /home/ray/data/FashionMNIST/raw\n",
      "\u001b[36m(RayTrainWorker pid=471, ip=10.0.2.35)\u001b[0m \n",
      "\u001b[36m(RayTrainWorker pid=471, ip=10.0.2.35)\u001b[0m Downloading http://fashion-mnist.s3-website.eu-central-1.amazonaws.com/t10k-images-idx3-ubyte.gz\n"
     ]
    },
    {
     "name": "stderr",
     "output_type": "stream",
     "text": [
      " 57%|█████▋    | 14942208/26421880 [00:04<00:01, 6075528.71it/s]\n",
      " 61%|██████    | 16056320/26421880 [00:04<00:01, 6914471.42it/s]\n"
     ]
    },
    {
     "name": "stdout",
     "output_type": "stream",
     "text": [
      "\u001b[36m(RayTrainWorker pid=471, ip=10.0.2.35)\u001b[0m Downloading http://fashion-mnist.s3-website.eu-central-1.amazonaws.com/t10k-images-idx3-ubyte.gz to /home/ray/data/FashionMNIST/raw/t10k-images-idx3-ubyte.gz\n"
     ]
    },
    {
     "name": "stderr",
     "output_type": "stream",
     "text": [
      " 65%|██████▌   | 17268736/26421880 [00:04<00:01, 7110193.09it/s]\n",
      " 70%|███████   | 18513920/26421880 [00:04<00:01, 7365299.68it/s]\n",
      " 75%|███████▌  | 19824640/26421880 [00:05<00:00, 7664343.66it/s]\n",
      "  0%|          | 0/4422102 [00:00<?, ?it/s]\u001b[0m \n",
      " 80%|████████  | 21200896/26421880 [00:05<00:00, 8066673.54it/s]\n",
      "  1%|          | 32768/4422102 [00:00<00:21, 206001.66it/s]\n",
      " 86%|████████▌ | 22642688/26421880 [00:05<00:00, 8409486.41it/s]\n",
      "  1%|▏         | 65536/4422102 [00:00<00:21, 205654.25it/s]\n",
      " 91%|█████████▏| 24150016/26421880 [00:05<00:00, 9583482.21it/s]\n",
      " 95%|█████████▌| 25165824/26421880 [00:05<00:00, 9678223.63it/s]\n",
      "  2%|▏         | 98304/4422102 [00:00<00:21, 205630.66it/s]\n",
      "100%|██████████| 26421880/26421880 [00:05<00:00, 4551286.92it/s]\n",
      "  4%|▎         | 163840/4422102 [00:00<00:14, 286691.23it/s]\n"
     ]
    },
    {
     "name": "stdout",
     "output_type": "stream",
     "text": [
      "\u001b[36m(RayTrainWorker pid=1087, ip=10.0.2.19)\u001b[0m Extracting /home/ray/data/FashionMNIST/raw/train-images-idx3-ubyte.gz to /home/ray/data/FashionMNIST/raw\n"
     ]
    },
    {
     "name": "stderr",
     "output_type": "stream",
     "text": [
      "  7%|▋         | 294912/4422102 [00:00<00:08, 479744.30it/s]\n",
      " 10%|▉         | 425984/4422102 [00:00<00:06, 595909.59it/s]\n"
     ]
    },
    {
     "name": "stdout",
     "output_type": "stream",
     "text": [
      "\u001b[36m(RayTrainWorker pid=1087, ip=10.0.2.19)\u001b[0m \n",
      "\u001b[36m(RayTrainWorker pid=1087, ip=10.0.2.19)\u001b[0m Downloading http://fashion-mnist.s3-website.eu-central-1.amazonaws.com/train-labels-idx1-ubyte.gz\n"
     ]
    },
    {
     "name": "stderr",
     "output_type": "stream",
     "text": [
      " 13%|█▎        | 589824/4422102 [00:01<00:05, 736911.19it/s]\n",
      " 16%|█▋        | 720896/4422102 [00:01<00:04, 764033.04it/s]\n"
     ]
    },
    {
     "name": "stdout",
     "output_type": "stream",
     "text": [
      "\u001b[36m(RayTrainWorker pid=1087, ip=10.0.2.19)\u001b[0m Downloading http://fashion-mnist.s3-website.eu-central-1.amazonaws.com/train-labels-idx1-ubyte.gz to /home/ray/data/FashionMNIST/raw/train-labels-idx1-ubyte.gz\n"
     ]
    },
    {
     "name": "stderr",
     "output_type": "stream",
     "text": [
      " 20%|██        | 884736/4422102 [00:01<00:04, 846356.32it/s]\n",
      " 24%|██▎       | 1048576/4422102 [00:01<00:03, 902353.74it/s]\n",
      "  0%|          | 0/29515 [00:00<?, ?it/s]19)\u001b[0m \n",
      " 27%|██▋       | 1212416/4422102 [00:01<00:03, 940767.92it/s]\n",
      "100%|██████████| 29515/29515 [00:00<00:00, 183167.27it/s]\n"
     ]
    },
    {
     "name": "stdout",
     "output_type": "stream",
     "text": [
      "\u001b[36m(RayTrainWorker pid=1087, ip=10.0.2.19)\u001b[0m Extracting /home/ray/data/FashionMNIST/raw/train-labels-idx1-ubyte.gz to /home/ray/data/FashionMNIST/raw\n",
      "\u001b[36m(RayTrainWorker pid=1087, ip=10.0.2.19)\u001b[0m \n",
      "\u001b[36m(RayTrainWorker pid=1087, ip=10.0.2.19)\u001b[0m Downloading http://fashion-mnist.s3-website.eu-central-1.amazonaws.com/t10k-images-idx3-ubyte.gz\n"
     ]
    },
    {
     "name": "stderr",
     "output_type": "stream",
     "text": [
      " 32%|███▏      | 1409024/4422102 [00:01<00:02, 1028736.39it/s]\n",
      " 36%|███▋      | 1605632/4422102 [00:02<00:02, 1090140.31it/s]\n"
     ]
    },
    {
     "name": "stdout",
     "output_type": "stream",
     "text": [
      "\u001b[36m(RayTrainWorker pid=1087, ip=10.0.2.19)\u001b[0m Downloading http://fashion-mnist.s3-website.eu-central-1.amazonaws.com/t10k-images-idx3-ubyte.gz to /home/ray/data/FashionMNIST/raw/t10k-images-idx3-ubyte.gz\n"
     ]
    },
    {
     "name": "stderr",
     "output_type": "stream",
     "text": [
      " 41%|████      | 1802240/4422102 [00:02<00:02, 1133807.15it/s]\n",
      " 45%|████▌     | 1998848/4422102 [00:02<00:02, 1164488.63it/s]\n",
      "  0%|          | 0/4422102 [00:00<?, ?it/s])\u001b[0m \n",
      " 50%|█████     | 2228224/4422102 [00:02<00:01, 1246508.43it/s]\n",
      "  1%|          | 32768/4422102 [00:00<00:20, 209389.63it/s]\n",
      " 56%|█████▌    | 2457600/4422102 [00:02<00:01, 1304490.85it/s]\n",
      "  1%|▏         | 65536/4422102 [00:00<00:20, 208972.56it/s]\n",
      " 62%|██████▏   | 2719744/4422102 [00:02<00:01, 1405509.92it/s]\n",
      "  3%|▎         | 131072/4422102 [00:00<00:14, 304044.46it/s]\n",
      " 67%|██████▋   | 2949120/4422102 [00:03<00:01, 1416659.69it/s]\n",
      "  5%|▌         | 229376/4422102 [00:00<00:09, 431261.70it/s]\n",
      " 73%|███████▎  | 3244032/4422102 [00:03<00:00, 1545415.85it/s]\n",
      " 10%|█         | 458752/4422102 [00:00<00:04, 802437.18it/s]\n",
      " 79%|███████▉  | 3506176/4422102 [00:03<00:00, 1576320.73it/s]\n",
      " 20%|██        | 884736/4422102 [00:00<00:02, 1452426.35it/s]\n",
      " 86%|████████▌ | 3801088/4422102 [00:03<00:00, 1658215.45it/s]\n",
      " 40%|████      | 1769472/4422102 [00:01<00:00, 2820233.06it/s]\n",
      "100%|██████████| 4422102/4422102 [00:03<00:00, 1188896.34it/s]\n"
     ]
    },
    {
     "name": "stdout",
     "output_type": "stream",
     "text": [
      "\u001b[36m(RayTrainWorker pid=471, ip=10.0.2.35)\u001b[0m Extracting /home/ray/data/FashionMNIST/raw/t10k-images-idx3-ubyte.gz to /home/ray/data/FashionMNIST/raw\n",
      "\u001b[36m(RayTrainWorker pid=471, ip=10.0.2.35)\u001b[0m \n",
      "\u001b[36m(RayTrainWorker pid=471, ip=10.0.2.35)\u001b[0m Downloading http://fashion-mnist.s3-website.eu-central-1.amazonaws.com/t10k-labels-idx1-ubyte.gz\n",
      "\u001b[36m(RayTrainWorker pid=1087, ip=10.0.2.19)\u001b[0m Extracting /home/ray/data/FashionMNIST/raw/t10k-images-idx3-ubyte.gz to /home/ray/data/FashionMNIST/raw\n",
      "\u001b[36m(RayTrainWorker pid=1087, ip=10.0.2.19)\u001b[0m \n",
      "\u001b[36m(RayTrainWorker pid=1087, ip=10.0.2.19)\u001b[0m Downloading http://fashion-mnist.s3-website.eu-central-1.amazonaws.com/t10k-labels-idx1-ubyte.gz\n"
     ]
    },
    {
     "name": "stderr",
     "output_type": "stream",
     "text": [
      "100%|██████████| 4422102/4422102 [00:01<00:00, 3515113.43it/s]\n"
     ]
    },
    {
     "name": "stdout",
     "output_type": "stream",
     "text": [
      "\u001b[36m(RayTrainWorker pid=471, ip=10.0.2.35)\u001b[0m Downloading http://fashion-mnist.s3-website.eu-central-1.amazonaws.com/t10k-labels-idx1-ubyte.gz to /home/ray/data/FashionMNIST/raw/t10k-labels-idx1-ubyte.gz\n",
      "\u001b[36m(RayTrainWorker pid=1087, ip=10.0.2.19)\u001b[0m Downloading http://fashion-mnist.s3-website.eu-central-1.amazonaws.com/t10k-labels-idx1-ubyte.gz to /home/ray/data/FashionMNIST/raw/t10k-labels-idx1-ubyte.gz\n",
      "\u001b[36m(RayTrainWorker pid=471, ip=10.0.2.35)\u001b[0m Extracting /home/ray/data/FashionMNIST/raw/t10k-labels-idx1-ubyte.gz to /home/ray/data/FashionMNIST/raw\n",
      "\u001b[36m(RayTrainWorker pid=471, ip=10.0.2.35)\u001b[0m \n",
      "\u001b[36m(RayTrainWorker pid=1087, ip=10.0.2.19)\u001b[0m Extracting /home/ray/data/FashionMNIST/raw/t10k-labels-idx1-ubyte.gz to /home/ray/data/FashionMNIST/raw\n",
      "\u001b[36m(RayTrainWorker pid=1087, ip=10.0.2.19)\u001b[0m \n"
     ]
    },
    {
     "name": "stderr",
     "output_type": "stream",
     "text": [
      "100%|██████████| 5148/5148 [00:00<00:00, 40817158.78it/s]\n",
      "100%|██████████| 5148/5148 [00:00<00:00, 37881187.71it/s]\n",
      "\u001b[36m(RayTrainWorker pid=1087, ip=10.0.2.19)\u001b[0m Moving model to device: cpu\n",
      "\u001b[36m(RayTrainWorker pid=1087, ip=10.0.2.19)\u001b[0m Wrapping provided model in DistributedDataParallel.\n",
      "\u001b[36m(RayTrainWorker pid=470, ip=10.0.2.35)\u001b[0m Moving model to device: cpu\n",
      "\u001b[36m(RayTrainWorker pid=470, ip=10.0.2.35)\u001b[0m Wrapping provided model in DistributedDataParallel.\n"
     ]
    },
    {
     "name": "stdout",
     "output_type": "stream",
     "text": [
      "\u001b[36m(RayTrainWorker pid=1087, ip=10.0.2.19)\u001b[0m Train Epoch 0\n",
      "\u001b[36m(RayTrainWorker pid=475, ip=10.0.2.35)\u001b[0m Train Epoch 0\n",
      "\u001b[36m(RayTrainWorker pid=473, ip=10.0.2.35)\u001b[0m Train Epoch 0\n",
      "\u001b[36m(RayTrainWorker pid=470, ip=10.0.2.35)\u001b[0m Train Epoch 0\n",
      "\u001b[36m(RayTrainWorker pid=471, ip=10.0.2.35)\u001b[0m Train Epoch 0\n",
      "\u001b[36m(RayTrainWorker pid=474, ip=10.0.2.35)\u001b[0m Train Epoch 0\n",
      "\u001b[36m(RayTrainWorker pid=472, ip=10.0.2.35)\u001b[0m Train Epoch 0\n",
      "\u001b[36m(RayTrainWorker pid=1087, ip=10.0.2.19)\u001b[0m Test Epoch 0\n",
      "\u001b[36m(RayTrainWorker pid=475, ip=10.0.2.35)\u001b[0m Test Epoch 0\n",
      "\u001b[36m(RayTrainWorker pid=473, ip=10.0.2.35)\u001b[0m Test Epoch 0\n",
      "\u001b[36m(RayTrainWorker pid=470, ip=10.0.2.35)\u001b[0m Test Epoch 0\n",
      "\u001b[36m(RayTrainWorker pid=471, ip=10.0.2.35)\u001b[0m Test Epoch 0\n",
      "\u001b[36m(RayTrainWorker pid=474, ip=10.0.2.35)\u001b[0m Test Epoch 0\n",
      "\u001b[36m(RayTrainWorker pid=472, ip=10.0.2.35)\u001b[0m Test Epoch 0\n",
      "\u001b[36m(RayTrainWorker pid=471, ip=10.0.2.35)\u001b[0m Train Epoch 1\n",
      "\u001b[36m(RayTrainWorker pid=1087, ip=10.0.2.19)\u001b[0m Train Epoch 1\n",
      "\u001b[36m(RayTrainWorker pid=470, ip=10.0.2.35)\u001b[0m Train Epoch 1\n",
      "\u001b[36m(RayTrainWorker pid=474, ip=10.0.2.35)\u001b[0m Train Epoch 1\n",
      "\u001b[36m(RayTrainWorker pid=475, ip=10.0.2.35)\u001b[0m Train Epoch 1\n",
      "\u001b[36m(RayTrainWorker pid=473, ip=10.0.2.35)\u001b[0m Train Epoch 1\n",
      "\u001b[36m(RayTrainWorker pid=472, ip=10.0.2.35)\u001b[0m Train Epoch 1\n",
      "\u001b[36m(train_fashion_mnist pid=408, ip=10.0.2.19)\u001b[0m \n",
      "\u001b[36m(train_fashion_mnist pid=408, ip=10.0.2.19)\u001b[0m Training finished iteration 1 at 2024-08-20 19:21:44. Total running time: 3min 45s\n",
      "\u001b[36m(train_fashion_mnist pid=408, ip=10.0.2.19)\u001b[0m ╭───────────────────────────────╮\n",
      "\u001b[36m(train_fashion_mnist pid=408, ip=10.0.2.19)\u001b[0m │ Training result               │\n",
      "\u001b[36m(train_fashion_mnist pid=408, ip=10.0.2.19)\u001b[0m ├───────────────────────────────┤\n",
      "\u001b[36m(train_fashion_mnist pid=408, ip=10.0.2.19)\u001b[0m │ checkpoint_dir_name           │\n",
      "\u001b[36m(train_fashion_mnist pid=408, ip=10.0.2.19)\u001b[0m │ time_this_iter_s      54.2812 │\n",
      "\u001b[36m(train_fashion_mnist pid=408, ip=10.0.2.19)\u001b[0m │ time_total_s          54.2812 │\n",
      "\u001b[36m(train_fashion_mnist pid=408, ip=10.0.2.19)\u001b[0m │ training_iteration          1 │\n",
      "\u001b[36m(train_fashion_mnist pid=408, ip=10.0.2.19)\u001b[0m │ accuracy              0.79566 │\n",
      "\u001b[36m(train_fashion_mnist pid=408, ip=10.0.2.19)\u001b[0m │ loss                  0.52821 │\n",
      "\u001b[36m(train_fashion_mnist pid=408, ip=10.0.2.19)\u001b[0m ╰───────────────────────────────╯\n",
      "\u001b[36m(RayTrainWorker pid=475, ip=10.0.2.35)\u001b[0m Test Epoch 1\n",
      "\u001b[36m(RayTrainWorker pid=473, ip=10.0.2.35)\u001b[0m Test Epoch 1\n",
      "\u001b[36m(RayTrainWorker pid=470, ip=10.0.2.35)\u001b[0m Test Epoch 1\n",
      "\u001b[36m(RayTrainWorker pid=471, ip=10.0.2.35)\u001b[0m Test Epoch 1\n",
      "\u001b[36m(RayTrainWorker pid=474, ip=10.0.2.35)\u001b[0m Test Epoch 1\n",
      "\u001b[36m(RayTrainWorker pid=472, ip=10.0.2.35)\u001b[0m Test Epoch 1\n",
      "\u001b[36m(RayTrainWorker pid=1087, ip=10.0.2.19)\u001b[0m Test Epoch 1\n",
      "\u001b[36m(RayTrainWorker pid=1087, ip=10.0.2.19)\u001b[0m Train Epoch 2\n",
      "\u001b[36m(RayTrainWorker pid=475, ip=10.0.2.35)\u001b[0m Train Epoch 2\n",
      "\u001b[36m(RayTrainWorker pid=470, ip=10.0.2.35)\u001b[0m Train Epoch 2\n",
      "\u001b[36m(RayTrainWorker pid=474, ip=10.0.2.35)\u001b[0m Train Epoch 2\n",
      "\u001b[36m(train_fashion_mnist pid=408, ip=10.0.2.19)\u001b[0m \n",
      "\u001b[36m(train_fashion_mnist pid=408, ip=10.0.2.19)\u001b[0m Training finished iteration 2 at 2024-08-20 19:22:21. Total running time: 4min 22s\n",
      "\u001b[36m(train_fashion_mnist pid=408, ip=10.0.2.19)\u001b[0m ╭───────────────────────────────╮\n",
      "\u001b[36m(train_fashion_mnist pid=408, ip=10.0.2.19)\u001b[0m │ Training result               │\n",
      "\u001b[36m(train_fashion_mnist pid=408, ip=10.0.2.19)\u001b[0m ├───────────────────────────────┤\n",
      "\u001b[36m(train_fashion_mnist pid=408, ip=10.0.2.19)\u001b[0m │ checkpoint_dir_name           │\n",
      "\u001b[36m(train_fashion_mnist pid=408, ip=10.0.2.19)\u001b[0m │ time_this_iter_s      37.2388 │\n",
      "\u001b[36m(train_fashion_mnist pid=408, ip=10.0.2.19)\u001b[0m │ time_total_s            91.52 │\n",
      "\u001b[36m(train_fashion_mnist pid=408, ip=10.0.2.19)\u001b[0m │ training_iteration          2 │\n",
      "\u001b[36m(train_fashion_mnist pid=408, ip=10.0.2.19)\u001b[0m │ accuracy              0.82505 │\n",
      "\u001b[36m(train_fashion_mnist pid=408, ip=10.0.2.19)\u001b[0m │ loss                  0.46209 │\n",
      "\u001b[36m(train_fashion_mnist pid=408, ip=10.0.2.19)\u001b[0m ╰───────────────────────────────╯\n",
      "\u001b[36m(RayTrainWorker pid=473, ip=10.0.2.35)\u001b[0m Train Epoch 2\n",
      "\u001b[36m(RayTrainWorker pid=471, ip=10.0.2.35)\u001b[0m Train Epoch 2\n",
      "\u001b[36m(RayTrainWorker pid=472, ip=10.0.2.35)\u001b[0m Train Epoch 2\n",
      "\u001b[36m(RayTrainWorker pid=1087, ip=10.0.2.19)\u001b[0m Test Epoch 2\n",
      "\u001b[36m(RayTrainWorker pid=475, ip=10.0.2.35)\u001b[0m Test Epoch 2\n",
      "\u001b[36m(RayTrainWorker pid=473, ip=10.0.2.35)\u001b[0m Test Epoch 2\n",
      "\u001b[36m(RayTrainWorker pid=470, ip=10.0.2.35)\u001b[0m Test Epoch 2\n",
      "\u001b[36m(RayTrainWorker pid=471, ip=10.0.2.35)\u001b[0m Test Epoch 2\n",
      "\u001b[36m(RayTrainWorker pid=474, ip=10.0.2.35)\u001b[0m Test Epoch 2\n",
      "\u001b[36m(RayTrainWorker pid=472, ip=10.0.2.35)\u001b[0m Test Epoch 2\n",
      "\u001b[36m(RayTrainWorker pid=474, ip=10.0.2.35)\u001b[0m Train Epoch 3\n",
      "\u001b[36m(RayTrainWorker pid=1087, ip=10.0.2.19)\u001b[0m Train Epoch 3\n",
      "\u001b[36m(RayTrainWorker pid=472, ip=10.0.2.35)\u001b[0m Train Epoch 3\n",
      "\u001b[36m(RayTrainWorker pid=470, ip=10.0.2.35)\u001b[0m Train Epoch 3\n",
      "\u001b[36m(RayTrainWorker pid=475, ip=10.0.2.35)\u001b[0m Train Epoch 3\n",
      "\u001b[36m(train_fashion_mnist pid=408, ip=10.0.2.19)\u001b[0m \n",
      "\u001b[36m(train_fashion_mnist pid=408, ip=10.0.2.19)\u001b[0m Training finished iteration 3 at 2024-08-20 19:22:58. Total running time: 4min 59s\n",
      "\u001b[36m(train_fashion_mnist pid=408, ip=10.0.2.19)\u001b[0m ╭───────────────────────────────╮\n",
      "\u001b[36m(train_fashion_mnist pid=408, ip=10.0.2.19)\u001b[0m │ Training result               │\n",
      "\u001b[36m(train_fashion_mnist pid=408, ip=10.0.2.19)\u001b[0m ├───────────────────────────────┤\n",
      "\u001b[36m(train_fashion_mnist pid=408, ip=10.0.2.19)\u001b[0m │ checkpoint_dir_name           │\n",
      "\u001b[36m(train_fashion_mnist pid=408, ip=10.0.2.19)\u001b[0m │ time_this_iter_s      37.3851 │\n",
      "\u001b[36m(train_fashion_mnist pid=408, ip=10.0.2.19)\u001b[0m │ time_total_s          128.905 │\n",
      "\u001b[36m(train_fashion_mnist pid=408, ip=10.0.2.19)\u001b[0m │ training_iteration          3 │\n",
      "\u001b[36m(train_fashion_mnist pid=408, ip=10.0.2.19)\u001b[0m │ accuracy              0.83485 │\n",
      "\u001b[36m(train_fashion_mnist pid=408, ip=10.0.2.19)\u001b[0m │ loss                  0.43921 │\n",
      "\u001b[36m(train_fashion_mnist pid=408, ip=10.0.2.19)\u001b[0m ╰───────────────────────────────╯\n",
      "\u001b[36m(RayTrainWorker pid=473, ip=10.0.2.35)\u001b[0m Train Epoch 3\n",
      "\u001b[36m(RayTrainWorker pid=471, ip=10.0.2.35)\u001b[0m Train Epoch 3\n",
      "\u001b[36m(RayTrainWorker pid=1087, ip=10.0.2.19)\u001b[0m Test Epoch 3\n",
      "\u001b[36m(RayTrainWorker pid=475, ip=10.0.2.35)\u001b[0m Test Epoch 3\n",
      "\u001b[36m(RayTrainWorker pid=473, ip=10.0.2.35)\u001b[0m Test Epoch 3\n",
      "\u001b[36m(RayTrainWorker pid=470, ip=10.0.2.35)\u001b[0m Test Epoch 3\n",
      "\u001b[36m(RayTrainWorker pid=471, ip=10.0.2.35)\u001b[0m Test Epoch 3\n",
      "\u001b[36m(RayTrainWorker pid=474, ip=10.0.2.35)\u001b[0m Test Epoch 3\n",
      "\u001b[36m(RayTrainWorker pid=472, ip=10.0.2.35)\u001b[0m Test Epoch 3\n",
      "\u001b[36m(RayTrainWorker pid=1087, ip=10.0.2.19)\u001b[0m Train Epoch 4\n",
      "\u001b[36m(RayTrainWorker pid=475, ip=10.0.2.35)\u001b[0m Train Epoch 4\n",
      "\u001b[36m(RayTrainWorker pid=473, ip=10.0.2.35)\u001b[0m Train Epoch 4\n",
      "\u001b[36m(RayTrainWorker pid=470, ip=10.0.2.35)\u001b[0m Train Epoch 4\n",
      "\u001b[36m(RayTrainWorker pid=471, ip=10.0.2.35)\u001b[0m Train Epoch 4\n",
      "\u001b[36m(RayTrainWorker pid=474, ip=10.0.2.35)\u001b[0m Train Epoch 4\n",
      "\u001b[36m(RayTrainWorker pid=472, ip=10.0.2.35)\u001b[0m Train Epoch 4\n",
      "\u001b[36m(train_fashion_mnist pid=408, ip=10.0.2.19)\u001b[0m \n",
      "\u001b[36m(train_fashion_mnist pid=408, ip=10.0.2.19)\u001b[0m Training finished iteration 4 at 2024-08-20 19:23:36. Total running time: 5min 37s\n",
      "\u001b[36m(train_fashion_mnist pid=408, ip=10.0.2.19)\u001b[0m ╭───────────────────────────────╮\n",
      "\u001b[36m(train_fashion_mnist pid=408, ip=10.0.2.19)\u001b[0m │ Training result               │\n",
      "\u001b[36m(train_fashion_mnist pid=408, ip=10.0.2.19)\u001b[0m ├───────────────────────────────┤\n",
      "\u001b[36m(train_fashion_mnist pid=408, ip=10.0.2.19)\u001b[0m │ checkpoint_dir_name           │\n",
      "\u001b[36m(train_fashion_mnist pid=408, ip=10.0.2.19)\u001b[0m │ time_this_iter_s      37.2657 │\n",
      "\u001b[36m(train_fashion_mnist pid=408, ip=10.0.2.19)\u001b[0m │ time_total_s          166.171 │\n",
      "\u001b[36m(train_fashion_mnist pid=408, ip=10.0.2.19)\u001b[0m │ training_iteration          4 │\n",
      "\u001b[36m(train_fashion_mnist pid=408, ip=10.0.2.19)\u001b[0m │ accuracy              0.84605 │\n",
      "\u001b[36m(train_fashion_mnist pid=408, ip=10.0.2.19)\u001b[0m │ loss                  0.42137 │\n",
      "\u001b[36m(train_fashion_mnist pid=408, ip=10.0.2.19)\u001b[0m ╰───────────────────────────────╯\n",
      "\u001b[36m(RayTrainWorker pid=475, ip=10.0.2.35)\u001b[0m Test Epoch 4\n",
      "\u001b[36m(RayTrainWorker pid=473, ip=10.0.2.35)\u001b[0m Test Epoch 4\n",
      "\u001b[36m(RayTrainWorker pid=470, ip=10.0.2.35)\u001b[0m Test Epoch 4\n",
      "\u001b[36m(RayTrainWorker pid=471, ip=10.0.2.35)\u001b[0m Test Epoch 4\n",
      "\u001b[36m(RayTrainWorker pid=474, ip=10.0.2.35)\u001b[0m Test Epoch 4\n",
      "\u001b[36m(RayTrainWorker pid=472, ip=10.0.2.35)\u001b[0m Test Epoch 4\n",
      "\u001b[36m(RayTrainWorker pid=1087, ip=10.0.2.19)\u001b[0m Test Epoch 4\n",
      "\u001b[36m(RayTrainWorker pid=1087, ip=10.0.2.19)\u001b[0m Train Epoch 5\n",
      "\u001b[36m(RayTrainWorker pid=475, ip=10.0.2.35)\u001b[0m Train Epoch 5\n",
      "\u001b[36m(RayTrainWorker pid=473, ip=10.0.2.35)\u001b[0m Train Epoch 5\n",
      "\u001b[36m(RayTrainWorker pid=470, ip=10.0.2.35)\u001b[0m Train Epoch 5\n",
      "\u001b[36m(RayTrainWorker pid=471, ip=10.0.2.35)\u001b[0m Train Epoch 5\n",
      "\u001b[36m(RayTrainWorker pid=474, ip=10.0.2.35)\u001b[0m Train Epoch 5\n",
      "\u001b[36m(RayTrainWorker pid=472, ip=10.0.2.35)\u001b[0m Train Epoch 5\n",
      "\u001b[36m(train_fashion_mnist pid=408, ip=10.0.2.19)\u001b[0m \n",
      "\u001b[36m(train_fashion_mnist pid=408, ip=10.0.2.19)\u001b[0m Training finished iteration 5 at 2024-08-20 19:24:13. Total running time: 6min 14s\n",
      "\u001b[36m(train_fashion_mnist pid=408, ip=10.0.2.19)\u001b[0m ╭───────────────────────────────╮\n",
      "\u001b[36m(train_fashion_mnist pid=408, ip=10.0.2.19)\u001b[0m │ Training result               │\n",
      "\u001b[36m(train_fashion_mnist pid=408, ip=10.0.2.19)\u001b[0m ├───────────────────────────────┤\n",
      "\u001b[36m(train_fashion_mnist pid=408, ip=10.0.2.19)\u001b[0m │ checkpoint_dir_name           │\n",
      "\u001b[36m(train_fashion_mnist pid=408, ip=10.0.2.19)\u001b[0m │ time_this_iter_s      37.3764 │\n",
      "\u001b[36m(train_fashion_mnist pid=408, ip=10.0.2.19)\u001b[0m │ time_total_s          203.547 │\n",
      "\u001b[36m(train_fashion_mnist pid=408, ip=10.0.2.19)\u001b[0m │ training_iteration          5 │\n",
      "\u001b[36m(train_fashion_mnist pid=408, ip=10.0.2.19)\u001b[0m │ accuracy              0.86004 │\n",
      "\u001b[36m(train_fashion_mnist pid=408, ip=10.0.2.19)\u001b[0m │ loss                  0.39294 │\n",
      "\u001b[36m(train_fashion_mnist pid=408, ip=10.0.2.19)\u001b[0m ╰───────────────────────────────╯\n",
      "\u001b[36m(RayTrainWorker pid=1087, ip=10.0.2.19)\u001b[0m Test Epoch 5\n",
      "\u001b[36m(RayTrainWorker pid=475, ip=10.0.2.35)\u001b[0m Test Epoch 5\n",
      "\u001b[36m(RayTrainWorker pid=473, ip=10.0.2.35)\u001b[0m Test Epoch 5\n",
      "\u001b[36m(RayTrainWorker pid=470, ip=10.0.2.35)\u001b[0m Test Epoch 5\n",
      "\u001b[36m(RayTrainWorker pid=471, ip=10.0.2.35)\u001b[0m Test Epoch 5\n",
      "\u001b[36m(RayTrainWorker pid=474, ip=10.0.2.35)\u001b[0m Test Epoch 5\n",
      "\u001b[36m(RayTrainWorker pid=472, ip=10.0.2.35)\u001b[0m Test Epoch 5\n",
      "\u001b[36m(RayTrainWorker pid=1087, ip=10.0.2.19)\u001b[0m Train Epoch 6\n",
      "\u001b[36m(RayTrainWorker pid=470, ip=10.0.2.35)\u001b[0m Train Epoch 6\n",
      "\u001b[36m(RayTrainWorker pid=471, ip=10.0.2.35)\u001b[0m Train Epoch 6\n",
      "\u001b[36m(train_fashion_mnist pid=408, ip=10.0.2.19)\u001b[0m \n",
      "\u001b[36m(train_fashion_mnist pid=408, ip=10.0.2.19)\u001b[0m Training finished iteration 6 at 2024-08-20 19:24:50. Total running time: 6min 52s\n",
      "\u001b[36m(train_fashion_mnist pid=408, ip=10.0.2.19)\u001b[0m ╭───────────────────────────────╮\n",
      "\u001b[36m(train_fashion_mnist pid=408, ip=10.0.2.19)\u001b[0m │ Training result               │\n",
      "\u001b[36m(train_fashion_mnist pid=408, ip=10.0.2.19)\u001b[0m ├───────────────────────────────┤\n",
      "\u001b[36m(train_fashion_mnist pid=408, ip=10.0.2.19)\u001b[0m │ checkpoint_dir_name           │\n",
      "\u001b[36m(train_fashion_mnist pid=408, ip=10.0.2.19)\u001b[0m │ time_this_iter_s      37.4567 │\n",
      "\u001b[36m(train_fashion_mnist pid=408, ip=10.0.2.19)\u001b[0m │ time_total_s          241.004 │\n",
      "\u001b[36m(train_fashion_mnist pid=408, ip=10.0.2.19)\u001b[0m │ training_iteration          6 │\n",
      "\u001b[36m(train_fashion_mnist pid=408, ip=10.0.2.19)\u001b[0m │ accuracy              0.86354 │\n",
      "\u001b[36m(train_fashion_mnist pid=408, ip=10.0.2.19)\u001b[0m │ loss                  0.38215 │\n",
      "\u001b[36m(train_fashion_mnist pid=408, ip=10.0.2.19)\u001b[0m ╰───────────────────────────────╯\n",
      "\u001b[36m(RayTrainWorker pid=475, ip=10.0.2.35)\u001b[0m Train Epoch 6\n",
      "\u001b[36m(RayTrainWorker pid=473, ip=10.0.2.35)\u001b[0m Train Epoch 6\n",
      "\u001b[36m(RayTrainWorker pid=474, ip=10.0.2.35)\u001b[0m Train Epoch 6\n",
      "\u001b[36m(RayTrainWorker pid=472, ip=10.0.2.35)\u001b[0m Train Epoch 6\n",
      "\u001b[36m(RayTrainWorker pid=1087, ip=10.0.2.19)\u001b[0m Test Epoch 6\n",
      "\u001b[36m(RayTrainWorker pid=475, ip=10.0.2.35)\u001b[0m Test Epoch 6\n",
      "\u001b[36m(RayTrainWorker pid=473, ip=10.0.2.35)\u001b[0m Test Epoch 6\n",
      "\u001b[36m(RayTrainWorker pid=470, ip=10.0.2.35)\u001b[0m Test Epoch 6\n",
      "\u001b[36m(RayTrainWorker pid=471, ip=10.0.2.35)\u001b[0m Test Epoch 6\n",
      "\u001b[36m(RayTrainWorker pid=474, ip=10.0.2.35)\u001b[0m Test Epoch 6\n",
      "\u001b[36m(RayTrainWorker pid=472, ip=10.0.2.35)\u001b[0m Test Epoch 6\n",
      "\u001b[36m(RayTrainWorker pid=1087, ip=10.0.2.19)\u001b[0m Train Epoch 7\n",
      "\u001b[36m(RayTrainWorker pid=475, ip=10.0.2.35)\u001b[0m Train Epoch 7\n",
      "\u001b[36m(RayTrainWorker pid=473, ip=10.0.2.35)\u001b[0m Train Epoch 7\n",
      "\u001b[36m(train_fashion_mnist pid=408, ip=10.0.2.19)\u001b[0m \n",
      "\u001b[36m(train_fashion_mnist pid=408, ip=10.0.2.19)\u001b[0m Training finished iteration 7 at 2024-08-20 19:25:28. Total running time: 7min 29s\n",
      "\u001b[36m(train_fashion_mnist pid=408, ip=10.0.2.19)\u001b[0m ╭───────────────────────────────╮\n",
      "\u001b[36m(train_fashion_mnist pid=408, ip=10.0.2.19)\u001b[0m │ Training result               │\n",
      "\u001b[36m(train_fashion_mnist pid=408, ip=10.0.2.19)\u001b[0m ├───────────────────────────────┤\n",
      "\u001b[36m(train_fashion_mnist pid=408, ip=10.0.2.19)\u001b[0m │ checkpoint_dir_name           │\n",
      "\u001b[36m(train_fashion_mnist pid=408, ip=10.0.2.19)\u001b[0m │ time_this_iter_s       37.212 │\n",
      "\u001b[36m(train_fashion_mnist pid=408, ip=10.0.2.19)\u001b[0m │ time_total_s          278.216 │\n",
      "\u001b[36m(train_fashion_mnist pid=408, ip=10.0.2.19)\u001b[0m │ training_iteration          7 │\n",
      "\u001b[36m(train_fashion_mnist pid=408, ip=10.0.2.19)\u001b[0m │ accuracy              0.87054 │\n",
      "\u001b[36m(train_fashion_mnist pid=408, ip=10.0.2.19)\u001b[0m │ loss                   0.3669 │\n",
      "\u001b[36m(train_fashion_mnist pid=408, ip=10.0.2.19)\u001b[0m ╰───────────────────────────────╯\n",
      "\u001b[36m(RayTrainWorker pid=470, ip=10.0.2.35)\u001b[0m Train Epoch 7\n",
      "\u001b[36m(RayTrainWorker pid=471, ip=10.0.2.35)\u001b[0m Train Epoch 7\n",
      "\u001b[36m(RayTrainWorker pid=474, ip=10.0.2.35)\u001b[0m Train Epoch 7\n",
      "\u001b[36m(RayTrainWorker pid=472, ip=10.0.2.35)\u001b[0m Train Epoch 7\n",
      "\u001b[36m(RayTrainWorker pid=475, ip=10.0.2.35)\u001b[0m Test Epoch 7\n",
      "\u001b[36m(RayTrainWorker pid=473, ip=10.0.2.35)\u001b[0m Test Epoch 7\n",
      "\u001b[36m(RayTrainWorker pid=470, ip=10.0.2.35)\u001b[0m Test Epoch 7\n",
      "\u001b[36m(RayTrainWorker pid=471, ip=10.0.2.35)\u001b[0m Test Epoch 7\n",
      "\u001b[36m(RayTrainWorker pid=474, ip=10.0.2.35)\u001b[0m Test Epoch 7\n",
      "\u001b[36m(RayTrainWorker pid=472, ip=10.0.2.35)\u001b[0m Test Epoch 7\n",
      "\u001b[36m(RayTrainWorker pid=1087, ip=10.0.2.19)\u001b[0m Test Epoch 7\n",
      "\u001b[36m(RayTrainWorker pid=1087, ip=10.0.2.19)\u001b[0m Train Epoch 8\n",
      "\u001b[36m(RayTrainWorker pid=474, ip=10.0.2.35)\u001b[0m Train Epoch 8\n",
      "\u001b[36m(RayTrainWorker pid=473, ip=10.0.2.35)\u001b[0m Train Epoch 8\n",
      "\u001b[36m(RayTrainWorker pid=471, ip=10.0.2.35)\u001b[0m Train Epoch 8\n",
      "\u001b[36m(RayTrainWorker pid=472, ip=10.0.2.35)\u001b[0m Train Epoch 8\n",
      "\u001b[36m(train_fashion_mnist pid=408, ip=10.0.2.19)\u001b[0m \n",
      "\u001b[36m(train_fashion_mnist pid=408, ip=10.0.2.19)\u001b[0m Training finished iteration 8 at 2024-08-20 19:26:05. Total running time: 8min 6s\n",
      "\u001b[36m(train_fashion_mnist pid=408, ip=10.0.2.19)\u001b[0m ╭───────────────────────────────╮\n",
      "\u001b[36m(train_fashion_mnist pid=408, ip=10.0.2.19)\u001b[0m │ Training result               │\n",
      "\u001b[36m(train_fashion_mnist pid=408, ip=10.0.2.19)\u001b[0m ├───────────────────────────────┤\n",
      "\u001b[36m(train_fashion_mnist pid=408, ip=10.0.2.19)\u001b[0m │ checkpoint_dir_name           │\n",
      "\u001b[36m(train_fashion_mnist pid=408, ip=10.0.2.19)\u001b[0m │ time_this_iter_s      37.3035 │\n",
      "\u001b[36m(train_fashion_mnist pid=408, ip=10.0.2.19)\u001b[0m │ time_total_s          315.519 │\n",
      "\u001b[36m(train_fashion_mnist pid=408, ip=10.0.2.19)\u001b[0m │ training_iteration          8 │\n",
      "\u001b[36m(train_fashion_mnist pid=408, ip=10.0.2.19)\u001b[0m │ accuracy              0.87334 │\n",
      "\u001b[36m(train_fashion_mnist pid=408, ip=10.0.2.19)\u001b[0m │ loss                   0.3721 │\n",
      "\u001b[36m(train_fashion_mnist pid=408, ip=10.0.2.19)\u001b[0m ╰───────────────────────────────╯\n",
      "\u001b[36m(RayTrainWorker pid=475, ip=10.0.2.35)\u001b[0m Train Epoch 8\n",
      "\u001b[36m(RayTrainWorker pid=470, ip=10.0.2.35)\u001b[0m Train Epoch 8\n",
      "\u001b[36m(RayTrainWorker pid=475, ip=10.0.2.35)\u001b[0m Test Epoch 8\n",
      "\u001b[36m(RayTrainWorker pid=473, ip=10.0.2.35)\u001b[0m Test Epoch 8\n",
      "\u001b[36m(RayTrainWorker pid=470, ip=10.0.2.35)\u001b[0m Test Epoch 8\n",
      "\u001b[36m(RayTrainWorker pid=471, ip=10.0.2.35)\u001b[0m Test Epoch 8\n",
      "\u001b[36m(RayTrainWorker pid=474, ip=10.0.2.35)\u001b[0m Test Epoch 8\n",
      "\u001b[36m(RayTrainWorker pid=472, ip=10.0.2.35)\u001b[0m Test Epoch 8\n",
      "\u001b[36m(RayTrainWorker pid=1087, ip=10.0.2.19)\u001b[0m Test Epoch 8\n",
      "\u001b[36m(RayTrainWorker pid=1087, ip=10.0.2.19)\u001b[0m Train Epoch 9\n",
      "\u001b[36m(RayTrainWorker pid=471, ip=10.0.2.35)\u001b[0m Train Epoch 9\n",
      "\u001b[36m(RayTrainWorker pid=474, ip=10.0.2.35)\u001b[0m Train Epoch 9\n",
      "\u001b[36m(RayTrainWorker pid=475, ip=10.0.2.35)\u001b[0m Train Epoch 9\n",
      "\u001b[36m(RayTrainWorker pid=472, ip=10.0.2.35)\u001b[0m Train Epoch 9\n",
      "\u001b[36m(RayTrainWorker pid=473, ip=10.0.2.35)\u001b[0m Train Epoch 9\n",
      "\u001b[36m(RayTrainWorker pid=470, ip=10.0.2.35)\u001b[0m Train Epoch 9\n",
      "\u001b[36m(train_fashion_mnist pid=408, ip=10.0.2.19)\u001b[0m \n",
      "\u001b[36m(train_fashion_mnist pid=408, ip=10.0.2.19)\u001b[0m Training finished iteration 9 at 2024-08-20 19:26:42. Total running time: 8min 43s\n",
      "\u001b[36m(train_fashion_mnist pid=408, ip=10.0.2.19)\u001b[0m ╭───────────────────────────────╮\n",
      "\u001b[36m(train_fashion_mnist pid=408, ip=10.0.2.19)\u001b[0m │ Training result               │\n",
      "\u001b[36m(train_fashion_mnist pid=408, ip=10.0.2.19)\u001b[0m ├───────────────────────────────┤\n",
      "\u001b[36m(train_fashion_mnist pid=408, ip=10.0.2.19)\u001b[0m │ checkpoint_dir_name           │\n",
      "\u001b[36m(train_fashion_mnist pid=408, ip=10.0.2.19)\u001b[0m │ time_this_iter_s      37.3403 │\n",
      "\u001b[36m(train_fashion_mnist pid=408, ip=10.0.2.19)\u001b[0m │ time_total_s           352.86 │\n",
      "\u001b[36m(train_fashion_mnist pid=408, ip=10.0.2.19)\u001b[0m │ training_iteration          9 │\n",
      "\u001b[36m(train_fashion_mnist pid=408, ip=10.0.2.19)\u001b[0m │ accuracy              0.87264 │\n",
      "\u001b[36m(train_fashion_mnist pid=408, ip=10.0.2.19)\u001b[0m │ loss                  0.36319 │\n",
      "\u001b[36m(train_fashion_mnist pid=408, ip=10.0.2.19)\u001b[0m ╰───────────────────────────────╯\n",
      "\u001b[36m(RayTrainWorker pid=1087, ip=10.0.2.19)\u001b[0m Test Epoch 9\n",
      "\u001b[36m(RayTrainWorker pid=475, ip=10.0.2.35)\u001b[0m Test Epoch 9\n",
      "\u001b[36m(RayTrainWorker pid=473, ip=10.0.2.35)\u001b[0m Test Epoch 9\n",
      "\u001b[36m(RayTrainWorker pid=470, ip=10.0.2.35)\u001b[0m Test Epoch 9\n",
      "\u001b[36m(RayTrainWorker pid=471, ip=10.0.2.35)\u001b[0m Test Epoch 9\n",
      "\u001b[36m(RayTrainWorker pid=474, ip=10.0.2.35)\u001b[0m Test Epoch 9\n",
      "\u001b[36m(RayTrainWorker pid=472, ip=10.0.2.35)\u001b[0m Test Epoch 9\n",
      "\u001b[36m(train_fashion_mnist pid=408, ip=10.0.2.19)\u001b[0m \n",
      "\u001b[36m(train_fashion_mnist pid=408, ip=10.0.2.19)\u001b[0m Training finished iteration 10 at 2024-08-20 19:27:20. Total running time: 9min 21s\n",
      "\u001b[36m(train_fashion_mnist pid=408, ip=10.0.2.19)\u001b[0m ╭───────────────────────────────╮\n",
      "\u001b[36m(train_fashion_mnist pid=408, ip=10.0.2.19)\u001b[0m │ Training result               │\n",
      "\u001b[36m(train_fashion_mnist pid=408, ip=10.0.2.19)\u001b[0m ├───────────────────────────────┤\n",
      "\u001b[36m(train_fashion_mnist pid=408, ip=10.0.2.19)\u001b[0m │ checkpoint_dir_name           │\n",
      "\u001b[36m(train_fashion_mnist pid=408, ip=10.0.2.19)\u001b[0m │ time_this_iter_s       37.268 │\n",
      "\u001b[36m(train_fashion_mnist pid=408, ip=10.0.2.19)\u001b[0m │ time_total_s          390.128 │\n",
      "\u001b[36m(train_fashion_mnist pid=408, ip=10.0.2.19)\u001b[0m │ training_iteration         10 │\n",
      "\u001b[36m(train_fashion_mnist pid=408, ip=10.0.2.19)\u001b[0m │ accuracy              0.87684 │\n",
      "\u001b[36m(train_fashion_mnist pid=408, ip=10.0.2.19)\u001b[0m │ loss                  0.35911 │\n",
      "\u001b[36m(train_fashion_mnist pid=408, ip=10.0.2.19)\u001b[0m ╰───────────────────────────────╯\n"
     ]
    }
   ],
   "source": [
    "ray.get(train_fashion_mnist.remote(num_workers=7, use_gpu=False))"
   ]
  },
  {
   "cell_type": "markdown",
   "id": "51e50116-2c34-457a-af10-7c0031555286",
   "metadata": {},
   "source": [
    "# Shut down Ray workers\n"
   ]
  },
  {
   "cell_type": "code",
   "execution_count": 6,
   "id": "d8897c41-de60-4f1f-8da2-68773865be3e",
   "metadata": {},
   "outputs": [
    {
     "name": "stdout",
     "output_type": "stream",
     "text": [
      "\u001b[36m(train_fashion_mnist pid=408, ip=10.0.2.19)\u001b[0m \n",
      "\u001b[36m(train_fashion_mnist pid=408, ip=10.0.2.19)\u001b[0m Training completed after 10 iterations at 2024-08-20 19:27:21. Total running time: 9min 22s\n",
      "\u001b[36m(train_fashion_mnist pid=408, ip=10.0.2.19)\u001b[0m \n",
      "\u001b[36m(train_fashion_mnist pid=408, ip=10.0.2.19)\u001b[0m Training result: Result(\n",
      "\u001b[36m(train_fashion_mnist pid=408, ip=10.0.2.19)\u001b[0m   metrics={'loss': 0.359105228656248, 'accuracy': 0.8768369489153254},\n",
      "\u001b[36m(train_fashion_mnist pid=408, ip=10.0.2.19)\u001b[0m   path='/home/ray/ray_results/TorchTrainer_2024-08-20_19-17-58/TorchTrainer_95938_00000_0_2024-08-20_19-17-58',\n",
      "\u001b[36m(train_fashion_mnist pid=408, ip=10.0.2.19)\u001b[0m   filesystem='local',\n",
      "\u001b[36m(train_fashion_mnist pid=408, ip=10.0.2.19)\u001b[0m   checkpoint=None\n",
      "\u001b[36m(train_fashion_mnist pid=408, ip=10.0.2.19)\u001b[0m )\n"
     ]
    },
    {
     "name": "stderr",
     "output_type": "stream",
     "text": [
      "\u001b[36m(train_fashion_mnist pid=408, ip=10.0.2.19)\u001b[0m Wrote the latest version of all result files and experiment state to '/home/ray/ray_results/TorchTrainer_2024-08-20_19-17-58' in 0.0027s.\n"
     ]
    }
   ],
   "source": [
    "ray.shutdown()"
   ]
  },
  {
   "cell_type": "code",
   "execution_count": null,
   "id": "85560c19-5397-4987-8192-2dc59ea59f1a",
   "metadata": {},
   "outputs": [],
   "source": []
  }
 ],
 "metadata": {
  "kernelspec": {
   "display_name": "Python 3 (ipykernel)",
   "language": "python",
   "name": "python3"
  },
  "language_info": {
   "codemirror_mode": {
    "name": "ipython",
    "version": 3
   },
   "file_extension": ".py",
   "mimetype": "text/x-python",
   "name": "python",
   "nbconvert_exporter": "python",
   "pygments_lexer": "ipython3",
   "version": "3.9.13"
  }
 },
 "nbformat": 4,
 "nbformat_minor": 5
}
