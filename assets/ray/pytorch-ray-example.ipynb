{
 "cells": [
  {
   "cell_type": "raw",
   "id": "c17b7c2f-6906-44b6-8d1e-7658d32fffab",
   "metadata": {},
   "source": [
    "# Source: https://docs.ray.io/en/latest/train/examples/pytorch/torch_fashion_mnist_example.html"
   ]
  },
  {
   "cell_type": "markdown",
   "id": "67809474-f373-41c8-b2cb-0d2ddf7fb1ad",
   "metadata": {},
   "source": [
    "# Install dependencies\n"
   ]
  },
  {
   "cell_type": "code",
   "execution_count": 1,
   "id": "c7f4ea59-d722-441b-a80d-21f2d9be8425",
   "metadata": {},
   "outputs": [],
   "source": [
    "!pip install -qU torch==2.5.1 torchvision==0.20.1 \"ray[client,train]\"==2.39.0"
   ]
  },
  {
   "cell_type": "markdown",
   "id": "1eac657a-d7dc-49cf-985f-4568e1647223",
   "metadata": {
    "tags": []
   },
   "source": [
    "# Import dependencies\n"
   ]
  },
  {
   "cell_type": "code",
   "execution_count": 2,
   "id": "42cd26a5-445f-414e-b4d5-a364c5d77cca",
   "metadata": {},
   "outputs": [],
   "source": [
    "import os\n",
    "from typing import Dict\n",
    "\n",
    "import torch\n",
    "from filelock import FileLock\n",
    "from torch import nn\n",
    "from torch.utils.data import DataLoader\n",
    "from torchvision import datasets, transforms\n",
    "from torchvision.transforms import Normalize, ToTensor\n",
    "\n",
    "import ray\n",
    "import ray.train\n",
    "from ray.train import ScalingConfig\n",
    "from ray.train.torch import TorchTrainer"
   ]
  },
  {
   "cell_type": "markdown",
   "id": "97e64221-42a7-4e7d-987f-7c6cdd80e873",
   "metadata": {},
   "source": [
    "# Define functions\n"
   ]
  },
  {
   "cell_type": "code",
   "execution_count": 3,
   "id": "4e95cc48-9ac5-4155-9761-32c619c3a6f8",
   "metadata": {},
   "outputs": [],
   "source": [
    "def get_dataloaders(batch_size):\n",
    "    # Transform to normalize the input images\n",
    "    transform = transforms.Compose([ToTensor(), Normalize((0.5,), (0.5,))])\n",
    "\n",
    "    with FileLock(os.path.expanduser(\"~/data.lock\")):\n",
    "        # Download training data from open datasets\n",
    "        training_data = datasets.FashionMNIST(\n",
    "            root=\"~/data\",\n",
    "            train=True,\n",
    "            download=True,\n",
    "            transform=transform,\n",
    "        )\n",
    "\n",
    "        # Download test data from open datasets\n",
    "        test_data = datasets.FashionMNIST(\n",
    "            root=\"~/data\",\n",
    "            train=False,\n",
    "            download=True,\n",
    "            transform=transform,\n",
    "        )\n",
    "\n",
    "    # Create data loaders\n",
    "    train_dataloader = DataLoader(training_data, batch_size=batch_size, shuffle=True)\n",
    "    test_dataloader = DataLoader(test_data, batch_size=batch_size)\n",
    "\n",
    "    return train_dataloader, test_dataloader\n",
    "\n",
    "\n",
    "# Model Definition\n",
    "class NeuralNetwork(nn.Module):\n",
    "    def __init__(self):\n",
    "        super(NeuralNetwork, self).__init__()\n",
    "        self.flatten = nn.Flatten()\n",
    "        self.linear_relu_stack = nn.Sequential(\n",
    "            nn.Linear(28 * 28, 512),\n",
    "            nn.ReLU(),\n",
    "            nn.Dropout(0.25),\n",
    "            nn.Linear(512, 512),\n",
    "            nn.ReLU(),\n",
    "            nn.Dropout(0.25),\n",
    "            nn.Linear(512, 10),\n",
    "            nn.ReLU(),\n",
    "        )\n",
    "\n",
    "    def forward(self, x):\n",
    "        x = self.flatten(x)\n",
    "        logits = self.linear_relu_stack(x)\n",
    "        return logits\n",
    "\n",
    "\n",
    "def train_func_per_worker(config: Dict):\n",
    "    lr = config[\"lr\"]\n",
    "    epochs = config[\"epochs\"]\n",
    "    batch_size = config[\"batch_size_per_worker\"]\n",
    "\n",
    "    # Get dataloaders inside the worker training function\n",
    "    train_dataloader, test_dataloader = get_dataloaders(batch_size=batch_size)\n",
    "\n",
    "    # [1] Prepare Dataloader for distributed training\n",
    "    # Shard the datasets among workers and move batches to the correct device\n",
    "    # =======================================================================\n",
    "    train_dataloader = ray.train.torch.prepare_data_loader(train_dataloader)\n",
    "    test_dataloader = ray.train.torch.prepare_data_loader(test_dataloader)\n",
    "\n",
    "    model = NeuralNetwork()\n",
    "\n",
    "    # [2] Prepare and wrap your model with DistributedDataParallel\n",
    "    # Move the model to the correct GPU/CPU device\n",
    "    # ============================================================\n",
    "    model = ray.train.torch.prepare_model(model)\n",
    "\n",
    "    loss_fn = nn.CrossEntropyLoss()\n",
    "    optimizer = torch.optim.SGD(model.parameters(), lr=lr, momentum=0.9)\n",
    "\n",
    "    # Model training loop\n",
    "    for epoch in range(epochs):\n",
    "        if ray.train.get_context().get_world_size() > 1:\n",
    "            # Required for the distributed sampler to shuffle properly across epochs.\n",
    "            train_dataloader.sampler.set_epoch(epoch)\n",
    "\n",
    "        model.train()\n",
    "        print(f\"Train Epoch {epoch}\")\n",
    "        for X, y in train_dataloader:\n",
    "            pred = model(X)\n",
    "            loss = loss_fn(pred, y)\n",
    "\n",
    "            optimizer.zero_grad()\n",
    "            loss.backward()\n",
    "            optimizer.step()\n",
    "\n",
    "        model.eval()\n",
    "        test_loss, num_correct, num_total = 0, 0, 0\n",
    "        with torch.no_grad():\n",
    "            print(f\"Test Epoch {epoch}\")\n",
    "            for X, y in test_dataloader:\n",
    "                pred = model(X)\n",
    "                loss = loss_fn(pred, y)\n",
    "\n",
    "                test_loss += loss.item()\n",
    "                num_total += y.shape[0]\n",
    "                num_correct += (pred.argmax(1) == y).sum().item()\n",
    "\n",
    "        test_loss /= len(test_dataloader)\n",
    "        accuracy = num_correct / num_total\n",
    "\n",
    "        # [3] Report metrics to Ray Train\n",
    "        # ===============================\n",
    "        ray.train.report(metrics={\"loss\": test_loss, \"accuracy\": accuracy})\n",
    "\n",
    "\n",
    "@ray.remote\n",
    "def train_fashion_mnist(num_workers=2, use_gpu=False):\n",
    "    global_batch_size = 32\n",
    "\n",
    "    train_config = {\n",
    "        \"lr\": 1e-3,\n",
    "        \"epochs\": 10,\n",
    "        \"batch_size_per_worker\": global_batch_size // num_workers,\n",
    "    }\n",
    "\n",
    "    # Configure computation resources\n",
    "    scaling_config = ScalingConfig(num_workers=num_workers, use_gpu=use_gpu)\n",
    "\n",
    "    # Initialize a Ray TorchTrainer\n",
    "    trainer = TorchTrainer(\n",
    "        train_loop_per_worker=train_func_per_worker,\n",
    "        train_loop_config=train_config,\n",
    "        scaling_config=scaling_config,\n",
    "    )\n",
    "\n",
    "    # [4] Start distributed training\n",
    "    # Run `train_func_per_worker` on all workers\n",
    "    # =============================================\n",
    "    result = trainer.fit()\n",
    "    print(f\"Training result: {result}\")"
   ]
  },
  {
   "cell_type": "markdown",
   "id": "643fa40e-e6e2-4988-98f7-003d2df58fe3",
   "metadata": {},
   "source": [
    "# Connect to Ray Cluster\n"
   ]
  },
  {
   "cell_type": "code",
   "execution_count": 4,
   "id": "586a8f3a-377e-4716-9805-9da857562fa1",
   "metadata": {},
   "outputs": [
    {
     "name": "stderr",
     "output_type": "stream",
     "text": [
      "2024-11-26 07:46:18,158\tINFO client_builder.py:244 -- Passing the following kwargs to ray.init() on the server: log_to_driver\n",
      "2024-11-26 07:48:18,245\tWARNING utils.py:1591 -- Python patch version mismatch: The cluster was started with:\n",
      "    Ray: 2.39.0\n",
      "    Python: 3.9.20\n",
      "This process on Ray Client was started with:\n",
      "    Ray: 2.39.0\n",
      "    Python: 3.9.13\n",
      "\n"
     ]
    },
    {
     "data": {
      "application/vnd.jupyter.widget-view+json": {
       "model_id": "21fd0442af1e43dd808bb1a6d14c90d2",
       "version_major": 2,
       "version_minor": 0
      },
      "text/html": [
       "<div class=\"lm-Widget p-Widget lm-Panel p-Panel jp-Cell-outputWrapper\">\n",
       "    <div style=\"margin-left: 50px;display: flex;flex-direction: row;align-items: center\">\n",
       "        <div class=\"jp-RenderedHTMLCommon\" style=\"display: flex; flex-direction: row;\">\n",
       "  <svg viewBox=\"0 0 567 224\" fill=\"none\" xmlns=\"http://www.w3.org/2000/svg\" style=\"height: 3em;\">\n",
       "    <g clip-path=\"url(#clip0_4338_178347)\">\n",
       "        <path d=\"M341.29 165.561H355.29L330.13 129.051C345.63 123.991 354.21 112.051 354.21 94.2307C354.21 71.3707 338.72 58.1807 311.88 58.1807H271V165.561H283.27V131.661H311.8C314.25 131.661 316.71 131.501 319.01 131.351L341.25 165.561H341.29ZM283.29 119.851V70.0007H311.82C331.3 70.0007 342.34 78.2907 342.34 94.5507C342.34 111.271 331.34 119.861 311.82 119.861L283.29 119.851ZM451.4 138.411L463.4 165.561H476.74L428.74 58.1807H416L367.83 165.561H380.83L392.83 138.411H451.4ZM446.19 126.601H398L422 72.1407L446.24 126.601H446.19ZM526.11 128.741L566.91 58.1807H554.35L519.99 114.181L485.17 58.1807H472.44L514.01 129.181V165.541H526.13V128.741H526.11Z\" fill=\"var(--jp-ui-font-color0)\"/>\n",
       "        <path d=\"M82.35 104.44C84.0187 97.8827 87.8248 92.0678 93.1671 87.9146C98.5094 83.7614 105.083 81.5067 111.85 81.5067C118.617 81.5067 125.191 83.7614 130.533 87.9146C135.875 92.0678 139.681 97.8827 141.35 104.44H163.75C164.476 101.562 165.622 98.8057 167.15 96.2605L127.45 56.5605C121.071 60.3522 113.526 61.6823 106.235 60.3005C98.9443 58.9187 92.4094 54.9203 87.8602 49.0574C83.3109 43.1946 81.0609 35.8714 81.5332 28.4656C82.0056 21.0599 85.1679 14.0819 90.4252 8.8446C95.6824 3.60726 102.672 0.471508 110.08 0.0272655C117.487 -0.416977 124.802 1.86091 130.647 6.4324C136.493 11.0039 140.467 17.5539 141.821 24.8501C143.175 32.1463 141.816 39.6859 138 46.0505L177.69 85.7505C182.31 82.9877 187.58 81.4995 192.962 81.4375C198.345 81.3755 203.648 82.742 208.33 85.3976C213.012 88.0532 216.907 91.9029 219.616 96.5544C222.326 101.206 223.753 106.492 223.753 111.875C223.753 117.258 222.326 122.545 219.616 127.197C216.907 131.848 213.012 135.698 208.33 138.353C203.648 141.009 198.345 142.375 192.962 142.313C187.58 142.251 182.31 140.763 177.69 138L138 177.7C141.808 184.071 143.155 191.614 141.79 198.91C140.424 206.205 136.44 212.75 130.585 217.313C124.731 221.875 117.412 224.141 110.004 223.683C102.596 223.226 95.6103 220.077 90.3621 214.828C85.1139 209.58 81.9647 202.595 81.5072 195.187C81.0497 187.779 83.3154 180.459 87.878 174.605C92.4405 168.751 98.9853 164.766 106.281 163.401C113.576 162.035 121.119 163.383 127.49 167.19L167.19 127.49C165.664 124.941 164.518 122.182 163.79 119.3H141.39C139.721 125.858 135.915 131.673 130.573 135.826C125.231 139.98 118.657 142.234 111.89 142.234C105.123 142.234 98.5494 139.98 93.2071 135.826C87.8648 131.673 84.0587 125.858 82.39 119.3H60C58.1878 126.495 53.8086 132.78 47.6863 136.971C41.5641 141.163 34.1211 142.972 26.7579 142.059C19.3947 141.146 12.6191 137.574 7.70605 132.014C2.79302 126.454 0.0813599 119.29 0.0813599 111.87C0.0813599 104.451 2.79302 97.2871 7.70605 91.7272C12.6191 86.1673 19.3947 82.5947 26.7579 81.6817C34.1211 80.7686 41.5641 82.5781 47.6863 86.7696C53.8086 90.9611 58.1878 97.2456 60 104.44H82.35ZM100.86 204.32C103.407 206.868 106.759 208.453 110.345 208.806C113.93 209.159 117.527 208.258 120.522 206.256C123.517 204.254 125.725 201.276 126.771 197.828C127.816 194.38 127.633 190.677 126.253 187.349C124.874 184.021 122.383 181.274 119.205 179.577C116.027 177.88 112.359 177.337 108.826 178.042C105.293 178.746 102.113 180.654 99.8291 183.44C97.5451 186.226 96.2979 189.718 96.3 193.32C96.2985 195.364 96.7006 197.388 97.4831 199.275C98.2656 201.163 99.4132 202.877 100.86 204.32ZM204.32 122.88C206.868 120.333 208.453 116.981 208.806 113.396C209.159 109.811 208.258 106.214 206.256 103.219C204.254 100.223 201.275 98.0151 197.827 96.97C194.38 95.9249 190.676 96.1077 187.348 97.4873C184.02 98.8669 181.274 101.358 179.577 104.536C177.879 107.714 177.337 111.382 178.041 114.915C178.746 118.448 180.653 121.627 183.439 123.911C186.226 126.195 189.717 127.443 193.32 127.44C195.364 127.443 197.388 127.042 199.275 126.259C201.163 125.476 202.878 124.328 204.32 122.88ZM122.88 19.4205C120.333 16.8729 116.981 15.2876 113.395 14.9347C109.81 14.5817 106.213 15.483 103.218 17.4849C100.223 19.4868 98.0146 22.4654 96.9696 25.9131C95.9245 29.3608 96.1073 33.0642 97.4869 36.3922C98.8665 39.7202 101.358 42.4668 104.535 44.1639C107.713 45.861 111.381 46.4036 114.914 45.6992C118.447 44.9949 121.627 43.0871 123.911 40.301C126.195 37.515 127.442 34.0231 127.44 30.4205C127.44 28.3772 127.038 26.3539 126.255 24.4664C125.473 22.5788 124.326 20.8642 122.88 19.4205ZM19.42 100.86C16.8725 103.408 15.2872 106.76 14.9342 110.345C14.5813 113.93 15.4826 117.527 17.4844 120.522C19.4863 123.518 22.4649 125.726 25.9127 126.771C29.3604 127.816 33.0638 127.633 36.3918 126.254C39.7198 124.874 42.4664 122.383 44.1635 119.205C45.8606 116.027 46.4032 112.359 45.6988 108.826C44.9944 105.293 43.0866 102.114 40.3006 99.8296C37.5145 97.5455 34.0227 96.2983 30.42 96.3005C26.2938 96.3018 22.337 97.9421 19.42 100.86ZM100.86 100.86C98.3125 103.408 96.7272 106.76 96.3742 110.345C96.0213 113.93 96.9226 117.527 98.9244 120.522C100.926 123.518 103.905 125.726 107.353 126.771C110.8 127.816 114.504 127.633 117.832 126.254C121.16 124.874 123.906 122.383 125.604 119.205C127.301 116.027 127.843 112.359 127.139 108.826C126.434 105.293 124.527 102.114 121.741 99.8296C118.955 97.5455 115.463 96.2983 111.86 96.3005C109.817 96.299 107.793 96.701 105.905 97.4835C104.018 98.2661 102.303 99.4136 100.86 100.86Z\" fill=\"#00AEEF\"/>\n",
       "    </g>\n",
       "    <defs>\n",
       "        <clipPath id=\"clip0_4338_178347\">\n",
       "            <rect width=\"566.93\" height=\"223.75\" fill=\"white\"/>\n",
       "        </clipPath>\n",
       "    </defs>\n",
       "  </svg>\n",
       "</div>\n",
       "\n",
       "        <table class=\"jp-RenderedHTMLCommon\" style=\"border-collapse: collapse;color: var(--jp-ui-font-color1);font-size: var(--jp-ui-font-size1);\">\n",
       "    <tr>\n",
       "        <td style=\"text-align: left\"><b>Python version:</b></td>\n",
       "        <td style=\"text-align: left\"><b>3.9.20</b></td>\n",
       "    </tr>\n",
       "    <tr>\n",
       "        <td style=\"text-align: left\"><b>Ray version:</b></td>\n",
       "        <td style=\"text-align: left\"><b>2.39.0</b></td>\n",
       "    </tr>\n",
       "    <tr>\n",
       "    <td style=\"text-align: left\"><b>Dashboard:</b></td>\n",
       "    <td style=\"text-align: left\"><b><a href=\"http://10.0.2.162:8265\" target=\"_blank\">http://10.0.2.162:8265</a></b></td>\n",
       "</tr>\n",
       "\n",
       "</table>\n",
       "\n",
       "    </div>\n",
       "</div>\n"
      ],
      "text/plain": [
       "ClientContext(dashboard_url='10.0.2.162:8265', python_version='3.9.20', ray_version='2.39.0', ray_commit='5a6c33536df3f6ed5e987a169b82739bb7e3d80e', _num_clients=1, _context_to_restore=<ray.util.client._ClientContext object at 0x7f1c84f57580>, protocol_version=None)"
      ]
     },
     "execution_count": 4,
     "metadata": {},
     "output_type": "execute_result"
    }
   ],
   "source": [
    "ray.init(\n",
    "    address=\"ray://raycluster-head-svc.default.svc.cluster.local:10001\",\n",
    "    runtime_env={\"pip\": [\"torch==2.5.1\", \"torchvision==0.20.1\"]},\n",
    ")"
   ]
  },
  {
   "cell_type": "markdown",
   "id": "8870839e-2ca1-42b2-93d7-3ec39fa8e9b4",
   "metadata": {},
   "source": [
    "# Train model remotely\n"
   ]
  },
  {
   "cell_type": "code",
   "execution_count": 5,
   "id": "4f858f51-172b-4dcf-826d-0aecb3be0171",
   "metadata": {},
   "outputs": [
    {
     "name": "stdout",
     "output_type": "stream",
     "text": [
      "\u001b[36m(autoscaler +10s)\u001b[0m Tip: use `ray status` to view detailed cluster status. To disable these messages, set RAY_SCHEDULER_EVENTS=0.\n",
      "\u001b[36m(autoscaler +10s)\u001b[0m Adding 1 node(s) of type cpu-group.\n",
      "\u001b[36m(autoscaler +10s)\u001b[0m Resized to 7 CPUs.\n",
      "\u001b[36m(train_fashion_mnist pid=483, ip=10.0.2.96)\u001b[0m \n",
      "\u001b[36m(train_fashion_mnist pid=483, ip=10.0.2.96)\u001b[0m View detailed results here: /home/ray/ray_results/TorchTrainer_2024-11-25_23-51-36\n",
      "\u001b[36m(train_fashion_mnist pid=483, ip=10.0.2.96)\u001b[0m To visualize your results with TensorBoard, run: `tensorboard --logdir /tmp/ray/session_2024-11-25_23-44-13_149600_1/artifacts/2024-11-25_23-51-36/TorchTrainer_2024-11-25_23-51-36/driver_artifacts`\n",
      "\u001b[36m(autoscaler +3m23s)\u001b[0m Adding 1 node(s) of type cpu-group.\n",
      "\u001b[36m(autoscaler +3m23s)\u001b[0m Resized to 14 CPUs.\n",
      "\u001b[36m(autoscaler +3m23s)\u001b[0m No available node types can fulfill resource requests {'bundle_group_f03e72a62d6a797333cee28989ec01000000': 0.001}*1. Add suitable node types to this cluster to resolve this issue.\n",
      "\u001b[36m(autoscaler +3m28s)\u001b[0m No available node types can fulfill resource requests {'bundle_group_f03e72a62d6a797333cee28989ec01000000': 0.001}*1. Add suitable node types to this cluster to resolve this issue.\n",
      "\u001b[36m(autoscaler +3m33s)\u001b[0m No available node types can fulfill resource requests {'bundle_group_f03e72a62d6a797333cee28989ec01000000': 0.001}*1. Add suitable node types to this cluster to resolve this issue.\n",
      "\u001b[36m(train_fashion_mnist pid=483, ip=10.0.2.96)\u001b[0m \n",
      "\u001b[36m(train_fashion_mnist pid=483, ip=10.0.2.96)\u001b[0m Training started with configuration:\n",
      "\u001b[36m(train_fashion_mnist pid=483, ip=10.0.2.96)\u001b[0m ╭─────────────────────────────────────────────────╮\n",
      "\u001b[36m(train_fashion_mnist pid=483, ip=10.0.2.96)\u001b[0m │ Training config                                 │\n",
      "\u001b[36m(train_fashion_mnist pid=483, ip=10.0.2.96)\u001b[0m ├─────────────────────────────────────────────────┤\n",
      "\u001b[36m(train_fashion_mnist pid=483, ip=10.0.2.96)\u001b[0m │ train_loop_config/batch_size_per_worker       4 │\n",
      "\u001b[36m(train_fashion_mnist pid=483, ip=10.0.2.96)\u001b[0m │ train_loop_config/epochs                     10 │\n",
      "\u001b[36m(train_fashion_mnist pid=483, ip=10.0.2.96)\u001b[0m │ train_loop_config/lr                      0.001 │\n",
      "\u001b[36m(train_fashion_mnist pid=483, ip=10.0.2.96)\u001b[0m ╰─────────────────────────────────────────────────╯\n"
     ]
    },
    {
     "name": "stderr",
     "output_type": "stream",
     "text": [
      "\u001b[36m(RayTrainWorker pid=763, ip=10.0.2.96)\u001b[0m Setting up process group for: env:// [rank=0, world_size=7]\n",
      "\u001b[36m(TorchTrainer pid=685, ip=10.0.2.96)\u001b[0m Started distributed worker processes: \n",
      "\u001b[36m(TorchTrainer pid=685, ip=10.0.2.96)\u001b[0m - (node_id=a9e7f8e16f54268c4de964e5e5d30ca1e5ace07cd1453e6d4a1fd681, ip=10.0.2.96, pid=763) world_rank=0, local_rank=0, node_rank=0\n",
      "\u001b[36m(TorchTrainer pid=685, ip=10.0.2.96)\u001b[0m - (node_id=a9e7f8e16f54268c4de964e5e5d30ca1e5ace07cd1453e6d4a1fd681, ip=10.0.2.96, pid=764) world_rank=1, local_rank=1, node_rank=0\n",
      "\u001b[36m(TorchTrainer pid=685, ip=10.0.2.96)\u001b[0m - (node_id=a9e7f8e16f54268c4de964e5e5d30ca1e5ace07cd1453e6d4a1fd681, ip=10.0.2.96, pid=766) world_rank=2, local_rank=2, node_rank=0\n",
      "\u001b[36m(TorchTrainer pid=685, ip=10.0.2.96)\u001b[0m - (node_id=a9e7f8e16f54268c4de964e5e5d30ca1e5ace07cd1453e6d4a1fd681, ip=10.0.2.96, pid=767) world_rank=3, local_rank=3, node_rank=0\n",
      "\u001b[36m(TorchTrainer pid=685, ip=10.0.2.96)\u001b[0m - (node_id=a9e7f8e16f54268c4de964e5e5d30ca1e5ace07cd1453e6d4a1fd681, ip=10.0.2.96, pid=768) world_rank=4, local_rank=4, node_rank=0\n",
      "\u001b[36m(TorchTrainer pid=685, ip=10.0.2.96)\u001b[0m - (node_id=a9e7f8e16f54268c4de964e5e5d30ca1e5ace07cd1453e6d4a1fd681, ip=10.0.2.96, pid=765) world_rank=5, local_rank=5, node_rank=0\n",
      "\u001b[36m(TorchTrainer pid=685, ip=10.0.2.96)\u001b[0m - (node_id=db3ac49e15872aca05f78ca5ce306499625dcb74691bf62d09e6afb0, ip=10.0.2.69, pid=467) world_rank=6, local_rank=0, node_rank=1\n"
     ]
    },
    {
     "name": "stdout",
     "output_type": "stream",
     "text": [
      "\u001b[36m(RayTrainWorker pid=766, ip=10.0.2.96)\u001b[0m Downloading http://fashion-mnist.s3-website.eu-central-1.amazonaws.com/train-images-idx3-ubyte.gz\n",
      "\u001b[36m(RayTrainWorker pid=467, ip=10.0.2.69)\u001b[0m Downloading http://fashion-mnist.s3-website.eu-central-1.amazonaws.com/train-images-idx3-ubyte.gz\n",
      "\u001b[36m(RayTrainWorker pid=766, ip=10.0.2.96)\u001b[0m Downloading http://fashion-mnist.s3-website.eu-central-1.amazonaws.com/train-images-idx3-ubyte.gz to /home/ray/data/FashionMNIST/raw/train-images-idx3-ubyte.gz\n",
      "\u001b[36m(RayTrainWorker pid=467, ip=10.0.2.69)\u001b[0m Downloading http://fashion-mnist.s3-website.eu-central-1.amazonaws.com/train-images-idx3-ubyte.gz to /home/ray/data/FashionMNIST/raw/train-images-idx3-ubyte.gz\n"
     ]
    },
    {
     "name": "stderr",
     "output_type": "stream",
     "text": [
      "  0%|          | 0.00/26.4M [00:00<?, ?B/s]\u001b[0m \n",
      "  0%|          | 0.00/26.4M [00:00<?, ?B/s]\u001b[0m \n",
      "  0%|          | 32.8k/26.4M [00:00<02:06, 208kB/s]\n",
      "  0%|          | 65.5k/26.4M [00:00<02:07, 207kB/s]\n",
      "  0%|          | 65.5k/26.4M [00:00<01:27, 302kB/s]\n",
      "  0%|          | 131k/26.4M [00:00<01:27, 301kB/s] \n",
      "  0%|          | 131k/26.4M [00:00<01:13, 359kB/s] \n",
      "  1%|          | 229k/26.4M [00:00<01:01, 427kB/s]\n",
      "  1%|          | 197k/26.4M [00:00<01:08, 382kB/s]\n",
      "  2%|▏         | 459k/26.4M [00:00<00:32, 795kB/s]\n",
      "  1%|          | 262k/26.4M [00:00<01:06, 394kB/s]\n",
      "  3%|▎         | 918k/26.4M [00:00<00:15, 1.69MB/s]\n",
      "  7%|▋         | 1.84M/26.4M [00:01<00:06, 3.54MB/s]\n",
      "  1%|▏         | 393k/26.4M [00:00<00:47, 546kB/s]\n",
      "  9%|▊         | 2.26M/26.4M [00:01<00:06, 3.70MB/s]\n",
      "  3%|▎         | 688k/26.4M [00:01<00:26, 984kB/s]\n",
      " 14%|█▍        | 3.70M/26.4M [00:01<00:03, 5.72MB/s]\n",
      "  5%|▍         | 1.31M/26.4M [00:01<00:12, 1.93MB/s]\n",
      " 25%|██▍       | 6.59M/26.4M [00:01<00:01, 10.0MB/s]\n",
      " 10%|▉         | 2.56M/26.4M [00:01<00:06, 3.80MB/s]\n",
      " 37%|███▋      | 9.70M/26.4M [00:01<00:01, 13.2MB/s]\n",
      " 19%|█▉        | 5.08M/26.4M [00:01<00:02, 7.57MB/s]\n",
      " 47%|████▋     | 12.5M/26.4M [00:01<00:00, 14.5MB/s]\n",
      " 31%|███       | 8.22M/26.4M [00:01<00:01, 11.3MB/s]\n",
      " 59%|█████▉    | 15.6M/26.4M [00:01<00:00, 16.1MB/s]\n",
      " 43%|████▎     | 11.3M/26.4M [00:01<00:01, 13.9MB/s]\n",
      " 70%|███████   | 18.5M/26.4M [00:02<00:00, 17.0MB/s]\n",
      " 55%|█████▍    | 14.5M/26.4M [00:01<00:00, 15.7MB/s]\n",
      " 81%|████████  | 21.3M/26.4M [00:02<00:00, 17.1MB/s]\n",
      " 66%|██████▌   | 17.4M/26.4M [00:02<00:00, 16.5MB/s]\n"
     ]
    },
    {
     "name": "stdout",
     "output_type": "stream",
     "text": [
      "\u001b[36m(RayTrainWorker pid=467, ip=10.0.2.69)\u001b[0m Extracting /home/ray/data/FashionMNIST/raw/train-images-idx3-ubyte.gz to /home/ray/data/FashionMNIST/raw\n"
     ]
    },
    {
     "name": "stderr",
     "output_type": "stream",
     "text": [
      "100%|██████████| 26.4M/26.4M [00:02<00:00, 11.1MB/s]\n",
      " 78%|███████▊  | 20.5M/26.4M [00:02<00:00, 17.5MB/s]\n",
      " 90%|████████▉ | 23.7M/26.4M [00:02<00:00, 18.2MB/s]\n"
     ]
    },
    {
     "name": "stdout",
     "output_type": "stream",
     "text": [
      "\u001b[36m(RayTrainWorker pid=766, ip=10.0.2.96)\u001b[0m Extracting /home/ray/data/FashionMNIST/raw/train-images-idx3-ubyte.gz to /home/ray/data/FashionMNIST/raw\n",
      "\u001b[36m(RayTrainWorker pid=467, ip=10.0.2.69)\u001b[0m \n",
      "\u001b[36m(RayTrainWorker pid=467, ip=10.0.2.69)\u001b[0m Downloading http://fashion-mnist.s3-website.eu-central-1.amazonaws.com/train-labels-idx1-ubyte.gz\n"
     ]
    },
    {
     "name": "stderr",
     "output_type": "stream",
     "text": [
      "100%|██████████| 26.4M/26.4M [00:02<00:00, 10.2MB/s]\n"
     ]
    },
    {
     "name": "stdout",
     "output_type": "stream",
     "text": [
      "\u001b[36m(RayTrainWorker pid=766, ip=10.0.2.96)\u001b[0m \n",
      "\u001b[36m(RayTrainWorker pid=766, ip=10.0.2.96)\u001b[0m Downloading http://fashion-mnist.s3-website.eu-central-1.amazonaws.com/train-labels-idx1-ubyte.gz\n",
      "\u001b[36m(RayTrainWorker pid=467, ip=10.0.2.69)\u001b[0m Downloading http://fashion-mnist.s3-website.eu-central-1.amazonaws.com/train-labels-idx1-ubyte.gz to /home/ray/data/FashionMNIST/raw/train-labels-idx1-ubyte.gz\n"
     ]
    },
    {
     "name": "stderr",
     "output_type": "stream",
     "text": [
      "  0%|          | 0.00/29.5k [00:00<?, ?B/s]\u001b[0m \n"
     ]
    },
    {
     "name": "stdout",
     "output_type": "stream",
     "text": [
      "\u001b[36m(RayTrainWorker pid=766, ip=10.0.2.96)\u001b[0m Downloading http://fashion-mnist.s3-website.eu-central-1.amazonaws.com/train-labels-idx1-ubyte.gz to /home/ray/data/FashionMNIST/raw/train-labels-idx1-ubyte.gz\n",
      "\u001b[36m(RayTrainWorker pid=467, ip=10.0.2.69)\u001b[0m Extracting /home/ray/data/FashionMNIST/raw/train-labels-idx1-ubyte.gz to /home/ray/data/FashionMNIST/raw\n",
      "\u001b[36m(RayTrainWorker pid=467, ip=10.0.2.69)\u001b[0m \n",
      "\u001b[36m(RayTrainWorker pid=467, ip=10.0.2.69)\u001b[0m Downloading http://fashion-mnist.s3-website.eu-central-1.amazonaws.com/t10k-images-idx3-ubyte.gz\n"
     ]
    },
    {
     "name": "stderr",
     "output_type": "stream",
     "text": [
      "100%|██████████| 29.5k/29.5k [00:00<00:00, 187kB/s]\n",
      "  0%|          | 0.00/29.5k [00:00<?, ?B/s]\u001b[0m \n"
     ]
    },
    {
     "name": "stdout",
     "output_type": "stream",
     "text": [
      "\u001b[36m(RayTrainWorker pid=766, ip=10.0.2.96)\u001b[0m Extracting /home/ray/data/FashionMNIST/raw/train-labels-idx1-ubyte.gz to /home/ray/data/FashionMNIST/raw\n",
      "\u001b[36m(RayTrainWorker pid=766, ip=10.0.2.96)\u001b[0m \n",
      "\u001b[36m(RayTrainWorker pid=766, ip=10.0.2.96)\u001b[0m Downloading http://fashion-mnist.s3-website.eu-central-1.amazonaws.com/t10k-images-idx3-ubyte.gz\n",
      "\u001b[36m(RayTrainWorker pid=467, ip=10.0.2.69)\u001b[0m Downloading http://fashion-mnist.s3-website.eu-central-1.amazonaws.com/t10k-images-idx3-ubyte.gz to /home/ray/data/FashionMNIST/raw/t10k-images-idx3-ubyte.gz\n"
     ]
    },
    {
     "name": "stderr",
     "output_type": "stream",
     "text": [
      "100%|██████████| 29.5k/29.5k [00:00<00:00, 187kB/s]\n"
     ]
    },
    {
     "name": "stdout",
     "output_type": "stream",
     "text": [
      "\u001b[36m(RayTrainWorker pid=766, ip=10.0.2.96)\u001b[0m Downloading http://fashion-mnist.s3-website.eu-central-1.amazonaws.com/t10k-images-idx3-ubyte.gz to /home/ray/data/FashionMNIST/raw/t10k-images-idx3-ubyte.gz\n"
     ]
    },
    {
     "name": "stderr",
     "output_type": "stream",
     "text": [
      "  0%|          | 0.00/4.42M [00:00<?, ?B/s]\u001b[0m \n",
      "  1%|          | 32.8k/4.42M [00:00<00:21, 208kB/s]\n",
      "  1%|▏         | 65.5k/4.42M [00:00<00:20, 208kB/s]\n",
      "  0%|          | 0.00/4.42M [00:00<?, ?B/s]\u001b[0m \n",
      "  1%|          | 32.8k/4.42M [00:00<00:21, 208kB/s]\n",
      "  3%|▎         | 131k/4.42M [00:00<00:14, 303kB/s] \n",
      "  5%|▌         | 229k/4.42M [00:00<00:09, 430kB/s]\n",
      "  1%|▏         | 65.5k/4.42M [00:00<00:20, 208kB/s]\n",
      "  3%|▎         | 131k/4.42M [00:00<00:14, 302kB/s] \n",
      " 10%|█         | 459k/4.42M [00:00<00:04, 800kB/s]\n",
      " 21%|██        | 918k/4.42M [00:00<00:02, 1.56MB/s]\n",
      "  5%|▌         | 229k/4.42M [00:00<00:09, 429kB/s]\n",
      " 42%|████▏     | 1.87M/4.42M [00:01<00:00, 3.05MB/s]\n",
      " 10%|█         | 459k/4.42M [00:00<00:04, 798kB/s]\n",
      " 84%|████████▎ | 3.70M/4.42M [00:01<00:00, 5.82MB/s]\n",
      " 21%|██        | 918k/4.42M [00:00<00:02, 1.52MB/s]\n"
     ]
    },
    {
     "name": "stdout",
     "output_type": "stream",
     "text": [
      "\u001b[36m(RayTrainWorker pid=467, ip=10.0.2.69)\u001b[0m Extracting /home/ray/data/FashionMNIST/raw/t10k-images-idx3-ubyte.gz to /home/ray/data/FashionMNIST/raw\n",
      "\u001b[36m(RayTrainWorker pid=467, ip=10.0.2.69)\u001b[0m \n",
      "\u001b[36m(RayTrainWorker pid=467, ip=10.0.2.69)\u001b[0m Downloading http://fashion-mnist.s3-website.eu-central-1.amazonaws.com/t10k-labels-idx1-ubyte.gz\n"
     ]
    },
    {
     "name": "stderr",
     "output_type": "stream",
     "text": [
      "100%|██████████| 4.42M/4.42M [00:01<00:00, 3.50MB/s]\n",
      " 42%|████▏     | 1.87M/4.42M [00:01<00:00, 2.99MB/s]\n"
     ]
    },
    {
     "name": "stdout",
     "output_type": "stream",
     "text": [
      "\u001b[36m(RayTrainWorker pid=766, ip=10.0.2.96)\u001b[0m Extracting /home/ray/data/FashionMNIST/raw/t10k-images-idx3-ubyte.gz to /home/ray/data/FashionMNIST/raw\n",
      "\u001b[36m(RayTrainWorker pid=766, ip=10.0.2.96)\u001b[0m \n",
      "\u001b[36m(RayTrainWorker pid=766, ip=10.0.2.96)\u001b[0m Downloading http://fashion-mnist.s3-website.eu-central-1.amazonaws.com/t10k-labels-idx1-ubyte.gz\n",
      "\u001b[36m(RayTrainWorker pid=467, ip=10.0.2.69)\u001b[0m Downloading http://fashion-mnist.s3-website.eu-central-1.amazonaws.com/t10k-labels-idx1-ubyte.gz to /home/ray/data/FashionMNIST/raw/t10k-labels-idx1-ubyte.gz\n"
     ]
    },
    {
     "name": "stderr",
     "output_type": "stream",
     "text": [
      "100%|██████████| 4.42M/4.42M [00:01<00:00, 3.50MB/s]\n"
     ]
    },
    {
     "name": "stdout",
     "output_type": "stream",
     "text": [
      "\u001b[36m(RayTrainWorker pid=766, ip=10.0.2.96)\u001b[0m Downloading http://fashion-mnist.s3-website.eu-central-1.amazonaws.com/t10k-labels-idx1-ubyte.gz to /home/ray/data/FashionMNIST/raw/t10k-labels-idx1-ubyte.gz\n",
      "\u001b[36m(RayTrainWorker pid=467, ip=10.0.2.69)\u001b[0m Extracting /home/ray/data/FashionMNIST/raw/t10k-labels-idx1-ubyte.gz to /home/ray/data/FashionMNIST/raw\n",
      "\u001b[36m(RayTrainWorker pid=467, ip=10.0.2.69)\u001b[0m \n"
     ]
    },
    {
     "name": "stderr",
     "output_type": "stream",
     "text": [
      "100%|██████████| 5.15k/5.15k [00:00<00:00, 35.9MB/s]\n",
      "\u001b[36m(RayTrainWorker pid=467, ip=10.0.2.69)\u001b[0m Moving model to device: cpu\n",
      "\u001b[36m(RayTrainWorker pid=467, ip=10.0.2.69)\u001b[0m Wrapping provided model in DistributedDataParallel.\n"
     ]
    },
    {
     "name": "stdout",
     "output_type": "stream",
     "text": [
      "\u001b[36m(RayTrainWorker pid=766, ip=10.0.2.96)\u001b[0m Extracting /home/ray/data/FashionMNIST/raw/t10k-labels-idx1-ubyte.gz to /home/ray/data/FashionMNIST/raw\n",
      "\u001b[36m(RayTrainWorker pid=766, ip=10.0.2.96)\u001b[0m \n"
     ]
    },
    {
     "name": "stderr",
     "output_type": "stream",
     "text": [
      "100%|██████████| 5.15k/5.15k [00:00<00:00, 45.9MB/s]\n",
      "\u001b[36m(RayTrainWorker pid=763, ip=10.0.2.96)\u001b[0m Moving model to device: cpu\n",
      "\u001b[36m(RayTrainWorker pid=763, ip=10.0.2.96)\u001b[0m Wrapping provided model in DistributedDataParallel.\n"
     ]
    },
    {
     "name": "stdout",
     "output_type": "stream",
     "text": [
      "\u001b[36m(RayTrainWorker pid=467, ip=10.0.2.69)\u001b[0m Train Epoch 0\n",
      "\u001b[36m(RayTrainWorker pid=763, ip=10.0.2.96)\u001b[0m Train Epoch 0\n",
      "\u001b[36m(RayTrainWorker pid=764, ip=10.0.2.96)\u001b[0m Train Epoch 0\n",
      "\u001b[36m(RayTrainWorker pid=766, ip=10.0.2.96)\u001b[0m Train Epoch 0\n",
      "\u001b[36m(RayTrainWorker pid=767, ip=10.0.2.96)\u001b[0m Train Epoch 0\n",
      "\u001b[36m(RayTrainWorker pid=768, ip=10.0.2.96)\u001b[0m Train Epoch 0\n",
      "\u001b[36m(RayTrainWorker pid=765, ip=10.0.2.96)\u001b[0m Train Epoch 0\n",
      "\u001b[36m(RayTrainWorker pid=467, ip=10.0.2.69)\u001b[0m Test Epoch 0\n",
      "\u001b[36m(RayTrainWorker pid=763, ip=10.0.2.96)\u001b[0m Test Epoch 0\n",
      "\u001b[36m(RayTrainWorker pid=764, ip=10.0.2.96)\u001b[0m Test Epoch 0\n",
      "\u001b[36m(RayTrainWorker pid=766, ip=10.0.2.96)\u001b[0m Test Epoch 0\n",
      "\u001b[36m(RayTrainWorker pid=767, ip=10.0.2.96)\u001b[0m Test Epoch 0\n",
      "\u001b[36m(RayTrainWorker pid=768, ip=10.0.2.96)\u001b[0m Test Epoch 0\n",
      "\u001b[36m(RayTrainWorker pid=765, ip=10.0.2.96)\u001b[0m Test Epoch 0\n",
      "\u001b[36m(RayTrainWorker pid=467, ip=10.0.2.69)\u001b[0m Train Epoch 1\n",
      "\u001b[36m(train_fashion_mnist pid=483, ip=10.0.2.96)\u001b[0m \n",
      "\u001b[36m(train_fashion_mnist pid=483, ip=10.0.2.96)\u001b[0m Training finished iteration 1 at 2024-11-25 23:54:02. Total running time: 2min 26s\n",
      "\u001b[36m(train_fashion_mnist pid=483, ip=10.0.2.96)\u001b[0m ╭───────────────────────────────╮\n",
      "\u001b[36m(train_fashion_mnist pid=483, ip=10.0.2.96)\u001b[0m │ Training result               │\n",
      "\u001b[36m(train_fashion_mnist pid=483, ip=10.0.2.96)\u001b[0m ├───────────────────────────────┤\n",
      "\u001b[36m(train_fashion_mnist pid=483, ip=10.0.2.96)\u001b[0m │ checkpoint_dir_name           │\n",
      "\u001b[36m(train_fashion_mnist pid=483, ip=10.0.2.96)\u001b[0m │ time_this_iter_s       123.43 │\n",
      "\u001b[36m(train_fashion_mnist pid=483, ip=10.0.2.96)\u001b[0m │ time_total_s           123.43 │\n",
      "\u001b[36m(train_fashion_mnist pid=483, ip=10.0.2.96)\u001b[0m │ training_iteration          1 │\n",
      "\u001b[36m(train_fashion_mnist pid=483, ip=10.0.2.96)\u001b[0m │ accuracy              0.79776 │\n",
      "\u001b[36m(train_fashion_mnist pid=483, ip=10.0.2.96)\u001b[0m │ loss                   0.5292 │\n",
      "\u001b[36m(train_fashion_mnist pid=483, ip=10.0.2.96)\u001b[0m ╰───────────────────────────────╯\n",
      "\u001b[36m(RayTrainWorker pid=763, ip=10.0.2.96)\u001b[0m Train Epoch 1\n",
      "\u001b[36m(RayTrainWorker pid=764, ip=10.0.2.96)\u001b[0m Train Epoch 1\n",
      "\u001b[36m(RayTrainWorker pid=766, ip=10.0.2.96)\u001b[0m Train Epoch 1\n",
      "\u001b[36m(RayTrainWorker pid=767, ip=10.0.2.96)\u001b[0m Train Epoch 1\n",
      "\u001b[36m(RayTrainWorker pid=768, ip=10.0.2.96)\u001b[0m Train Epoch 1\n",
      "\u001b[36m(RayTrainWorker pid=765, ip=10.0.2.96)\u001b[0m Train Epoch 1\n",
      "\u001b[36m(RayTrainWorker pid=763, ip=10.0.2.96)\u001b[0m Test Epoch 1\n",
      "\u001b[36m(RayTrainWorker pid=764, ip=10.0.2.96)\u001b[0m Test Epoch 1\n",
      "\u001b[36m(RayTrainWorker pid=766, ip=10.0.2.96)\u001b[0m Test Epoch 1\n",
      "\u001b[36m(RayTrainWorker pid=767, ip=10.0.2.96)\u001b[0m Test Epoch 1\n",
      "\u001b[36m(RayTrainWorker pid=768, ip=10.0.2.96)\u001b[0m Test Epoch 1\n",
      "\u001b[36m(RayTrainWorker pid=765, ip=10.0.2.96)\u001b[0m Test Epoch 1\n",
      "\u001b[36m(RayTrainWorker pid=467, ip=10.0.2.69)\u001b[0m Test Epoch 1\n",
      "\u001b[36m(RayTrainWorker pid=467, ip=10.0.2.69)\u001b[0m Train Epoch 2\n",
      "\u001b[36m(train_fashion_mnist pid=483, ip=10.0.2.96)\u001b[0m \n",
      "\u001b[36m(train_fashion_mnist pid=483, ip=10.0.2.96)\u001b[0m Training finished iteration 2 at 2024-11-25 23:54:30. Total running time: 2min 53s\n",
      "\u001b[36m(train_fashion_mnist pid=483, ip=10.0.2.96)\u001b[0m ╭───────────────────────────────╮\n",
      "\u001b[36m(train_fashion_mnist pid=483, ip=10.0.2.96)\u001b[0m │ Training result               │\n",
      "\u001b[36m(train_fashion_mnist pid=483, ip=10.0.2.96)\u001b[0m ├───────────────────────────────┤\n",
      "\u001b[36m(train_fashion_mnist pid=483, ip=10.0.2.96)\u001b[0m │ checkpoint_dir_name           │\n",
      "\u001b[36m(train_fashion_mnist pid=483, ip=10.0.2.96)\u001b[0m │ time_this_iter_s       27.671 │\n",
      "\u001b[36m(train_fashion_mnist pid=483, ip=10.0.2.96)\u001b[0m │ time_total_s          151.101 │\n",
      "\u001b[36m(train_fashion_mnist pid=483, ip=10.0.2.96)\u001b[0m │ training_iteration          2 │\n",
      "\u001b[36m(train_fashion_mnist pid=483, ip=10.0.2.96)\u001b[0m │ accuracy              0.82925 │\n",
      "\u001b[36m(train_fashion_mnist pid=483, ip=10.0.2.96)\u001b[0m │ loss                  0.46457 │\n",
      "\u001b[36m(train_fashion_mnist pid=483, ip=10.0.2.96)\u001b[0m ╰───────────────────────────────╯\n",
      "\u001b[36m(RayTrainWorker pid=763, ip=10.0.2.96)\u001b[0m Train Epoch 2\n",
      "\u001b[36m(RayTrainWorker pid=764, ip=10.0.2.96)\u001b[0m Train Epoch 2\n",
      "\u001b[36m(RayTrainWorker pid=766, ip=10.0.2.96)\u001b[0m Train Epoch 2\n",
      "\u001b[36m(RayTrainWorker pid=767, ip=10.0.2.96)\u001b[0m Train Epoch 2\n",
      "\u001b[36m(RayTrainWorker pid=768, ip=10.0.2.96)\u001b[0m Train Epoch 2\n",
      "\u001b[36m(RayTrainWorker pid=765, ip=10.0.2.96)\u001b[0m Train Epoch 2\n",
      "\u001b[36m(RayTrainWorker pid=763, ip=10.0.2.96)\u001b[0m Test Epoch 2\n",
      "\u001b[36m(RayTrainWorker pid=764, ip=10.0.2.96)\u001b[0m Test Epoch 2\n",
      "\u001b[36m(RayTrainWorker pid=766, ip=10.0.2.96)\u001b[0m Test Epoch 2\n",
      "\u001b[36m(RayTrainWorker pid=767, ip=10.0.2.96)\u001b[0m Test Epoch 2\n",
      "\u001b[36m(RayTrainWorker pid=768, ip=10.0.2.96)\u001b[0m Test Epoch 2\n",
      "\u001b[36m(RayTrainWorker pid=765, ip=10.0.2.96)\u001b[0m Test Epoch 2\n",
      "\u001b[36m(RayTrainWorker pid=467, ip=10.0.2.69)\u001b[0m Test Epoch 2\n",
      "\u001b[36m(RayTrainWorker pid=467, ip=10.0.2.69)\u001b[0m Train Epoch 3\n",
      "\u001b[36m(train_fashion_mnist pid=483, ip=10.0.2.96)\u001b[0m \n",
      "\u001b[36m(train_fashion_mnist pid=483, ip=10.0.2.96)\u001b[0m Training finished iteration 3 at 2024-11-25 23:54:58. Total running time: 3min 21s\n",
      "\u001b[36m(train_fashion_mnist pid=483, ip=10.0.2.96)\u001b[0m ╭───────────────────────────────╮\n",
      "\u001b[36m(train_fashion_mnist pid=483, ip=10.0.2.96)\u001b[0m │ Training result               │\n",
      "\u001b[36m(train_fashion_mnist pid=483, ip=10.0.2.96)\u001b[0m ├───────────────────────────────┤\n",
      "\u001b[36m(train_fashion_mnist pid=483, ip=10.0.2.96)\u001b[0m │ checkpoint_dir_name           │\n",
      "\u001b[36m(train_fashion_mnist pid=483, ip=10.0.2.96)\u001b[0m │ time_this_iter_s      27.6703 │\n",
      "\u001b[36m(train_fashion_mnist pid=483, ip=10.0.2.96)\u001b[0m │ time_total_s          178.772 │\n",
      "\u001b[36m(train_fashion_mnist pid=483, ip=10.0.2.96)\u001b[0m │ training_iteration          3 │\n",
      "\u001b[36m(train_fashion_mnist pid=483, ip=10.0.2.96)\u001b[0m │ accuracy              0.84185 │\n",
      "\u001b[36m(train_fashion_mnist pid=483, ip=10.0.2.96)\u001b[0m │ loss                  0.43917 │\n",
      "\u001b[36m(train_fashion_mnist pid=483, ip=10.0.2.96)\u001b[0m ╰───────────────────────────────╯\n",
      "\u001b[36m(RayTrainWorker pid=763, ip=10.0.2.96)\u001b[0m Train Epoch 3\n",
      "\u001b[36m(RayTrainWorker pid=764, ip=10.0.2.96)\u001b[0m Train Epoch 3\n",
      "\u001b[36m(RayTrainWorker pid=766, ip=10.0.2.96)\u001b[0m Train Epoch 3\n",
      "\u001b[36m(RayTrainWorker pid=767, ip=10.0.2.96)\u001b[0m Train Epoch 3\n",
      "\u001b[36m(RayTrainWorker pid=768, ip=10.0.2.96)\u001b[0m Train Epoch 3\n",
      "\u001b[36m(RayTrainWorker pid=765, ip=10.0.2.96)\u001b[0m Train Epoch 3\n",
      "\u001b[36m(RayTrainWorker pid=467, ip=10.0.2.69)\u001b[0m Test Epoch 3\n",
      "\u001b[36m(RayTrainWorker pid=763, ip=10.0.2.96)\u001b[0m Test Epoch 3\n",
      "\u001b[36m(RayTrainWorker pid=764, ip=10.0.2.96)\u001b[0m Test Epoch 3\n",
      "\u001b[36m(RayTrainWorker pid=766, ip=10.0.2.96)\u001b[0m Test Epoch 3\n",
      "\u001b[36m(RayTrainWorker pid=767, ip=10.0.2.96)\u001b[0m Test Epoch 3\n",
      "\u001b[36m(RayTrainWorker pid=768, ip=10.0.2.96)\u001b[0m Test Epoch 3\n",
      "\u001b[36m(RayTrainWorker pid=765, ip=10.0.2.96)\u001b[0m Test Epoch 3\n",
      "\u001b[36m(train_fashion_mnist pid=483, ip=10.0.2.96)\u001b[0m \n",
      "\u001b[36m(train_fashion_mnist pid=483, ip=10.0.2.96)\u001b[0m Training finished iteration 4 at 2024-11-25 23:55:25. Total running time: 3min 49s\n",
      "\u001b[36m(train_fashion_mnist pid=483, ip=10.0.2.96)\u001b[0m ╭───────────────────────────────╮\n",
      "\u001b[36m(train_fashion_mnist pid=483, ip=10.0.2.96)\u001b[0m │ Training result               │\n",
      "\u001b[36m(train_fashion_mnist pid=483, ip=10.0.2.96)\u001b[0m ├───────────────────────────────┤\n",
      "\u001b[36m(train_fashion_mnist pid=483, ip=10.0.2.96)\u001b[0m │ checkpoint_dir_name           │\n",
      "\u001b[36m(train_fashion_mnist pid=483, ip=10.0.2.96)\u001b[0m │ time_this_iter_s      27.6851 │\n",
      "\u001b[36m(train_fashion_mnist pid=483, ip=10.0.2.96)\u001b[0m │ time_total_s          206.457 │\n",
      "\u001b[36m(train_fashion_mnist pid=483, ip=10.0.2.96)\u001b[0m │ training_iteration          4 │\n",
      "\u001b[36m(train_fashion_mnist pid=483, ip=10.0.2.96)\u001b[0m │ accuracy              0.84465 │\n",
      "\u001b[36m(train_fashion_mnist pid=483, ip=10.0.2.96)\u001b[0m │ loss                  0.42386 │\n",
      "\u001b[36m(train_fashion_mnist pid=483, ip=10.0.2.96)\u001b[0m ╰───────────────────────────────╯\n",
      "\u001b[36m(RayTrainWorker pid=763, ip=10.0.2.96)\u001b[0m Train Epoch 4\n",
      "\u001b[36m(RayTrainWorker pid=764, ip=10.0.2.96)\u001b[0m Train Epoch 4\n",
      "\u001b[36m(RayTrainWorker pid=766, ip=10.0.2.96)\u001b[0m Train Epoch 4\n",
      "\u001b[36m(RayTrainWorker pid=767, ip=10.0.2.96)\u001b[0m Train Epoch 4\n",
      "\u001b[36m(RayTrainWorker pid=768, ip=10.0.2.96)\u001b[0m Train Epoch 4\n",
      "\u001b[36m(RayTrainWorker pid=765, ip=10.0.2.96)\u001b[0m Train Epoch 4\n",
      "\u001b[36m(RayTrainWorker pid=467, ip=10.0.2.69)\u001b[0m Train Epoch 4\n",
      "\u001b[36m(RayTrainWorker pid=763, ip=10.0.2.96)\u001b[0m Test Epoch 4\n",
      "\u001b[36m(RayTrainWorker pid=764, ip=10.0.2.96)\u001b[0m Test Epoch 4\n",
      "\u001b[36m(RayTrainWorker pid=766, ip=10.0.2.96)\u001b[0m Test Epoch 4\n",
      "\u001b[36m(RayTrainWorker pid=767, ip=10.0.2.96)\u001b[0m Test Epoch 4\n",
      "\u001b[36m(RayTrainWorker pid=768, ip=10.0.2.96)\u001b[0m Test Epoch 4\n",
      "\u001b[36m(RayTrainWorker pid=765, ip=10.0.2.96)\u001b[0m Test Epoch 4\n",
      "\u001b[36m(RayTrainWorker pid=467, ip=10.0.2.69)\u001b[0m Test Epoch 4\n",
      "\u001b[36m(RayTrainWorker pid=467, ip=10.0.2.69)\u001b[0m Train Epoch 5\n",
      "\u001b[36m(train_fashion_mnist pid=483, ip=10.0.2.96)\u001b[0m \n",
      "\u001b[36m(train_fashion_mnist pid=483, ip=10.0.2.96)\u001b[0m Training finished iteration 5 at 2024-11-25 23:55:53. Total running time: 4min 16s\n",
      "\u001b[36m(train_fashion_mnist pid=483, ip=10.0.2.96)\u001b[0m ╭───────────────────────────────╮\n",
      "\u001b[36m(train_fashion_mnist pid=483, ip=10.0.2.96)\u001b[0m │ Training result               │\n",
      "\u001b[36m(train_fashion_mnist pid=483, ip=10.0.2.96)\u001b[0m ├───────────────────────────────┤\n",
      "\u001b[36m(train_fashion_mnist pid=483, ip=10.0.2.96)\u001b[0m │ checkpoint_dir_name           │\n",
      "\u001b[36m(train_fashion_mnist pid=483, ip=10.0.2.96)\u001b[0m │ time_this_iter_s      27.6825 │\n",
      "\u001b[36m(train_fashion_mnist pid=483, ip=10.0.2.96)\u001b[0m │ time_total_s          234.139 │\n",
      "\u001b[36m(train_fashion_mnist pid=483, ip=10.0.2.96)\u001b[0m │ training_iteration          5 │\n",
      "\u001b[36m(train_fashion_mnist pid=483, ip=10.0.2.96)\u001b[0m │ accuracy              0.86074 │\n",
      "\u001b[36m(train_fashion_mnist pid=483, ip=10.0.2.96)\u001b[0m │ loss                  0.39836 │\n",
      "\u001b[36m(train_fashion_mnist pid=483, ip=10.0.2.96)\u001b[0m ╰───────────────────────────────╯\n",
      "\u001b[36m(RayTrainWorker pid=763, ip=10.0.2.96)\u001b[0m Train Epoch 5\n",
      "\u001b[36m(RayTrainWorker pid=764, ip=10.0.2.96)\u001b[0m Train Epoch 5\n",
      "\u001b[36m(RayTrainWorker pid=766, ip=10.0.2.96)\u001b[0m Train Epoch 5\n",
      "\u001b[36m(RayTrainWorker pid=767, ip=10.0.2.96)\u001b[0m Train Epoch 5\n",
      "\u001b[36m(RayTrainWorker pid=768, ip=10.0.2.96)\u001b[0m Train Epoch 5\n",
      "\u001b[36m(RayTrainWorker pid=765, ip=10.0.2.96)\u001b[0m Train Epoch 5\n",
      "\u001b[36m(RayTrainWorker pid=763, ip=10.0.2.96)\u001b[0m Test Epoch 5\n",
      "\u001b[36m(RayTrainWorker pid=764, ip=10.0.2.96)\u001b[0m Test Epoch 5\n",
      "\u001b[36m(RayTrainWorker pid=766, ip=10.0.2.96)\u001b[0m Test Epoch 5\n",
      "\u001b[36m(RayTrainWorker pid=767, ip=10.0.2.96)\u001b[0m Test Epoch 5\n",
      "\u001b[36m(RayTrainWorker pid=768, ip=10.0.2.96)\u001b[0m Test Epoch 5\n",
      "\u001b[36m(RayTrainWorker pid=765, ip=10.0.2.96)\u001b[0m Test Epoch 5\n",
      "\u001b[36m(RayTrainWorker pid=467, ip=10.0.2.69)\u001b[0m Test Epoch 5\n",
      "\u001b[36m(train_fashion_mnist pid=483, ip=10.0.2.96)\u001b[0m \n",
      "\u001b[36m(train_fashion_mnist pid=483, ip=10.0.2.96)\u001b[0m Training finished iteration 6 at 2024-11-25 23:56:21. Total running time: 4min 44s\n",
      "\u001b[36m(train_fashion_mnist pid=483, ip=10.0.2.96)\u001b[0m ╭───────────────────────────────╮\n",
      "\u001b[36m(train_fashion_mnist pid=483, ip=10.0.2.96)\u001b[0m │ Training result               │\n",
      "\u001b[36m(train_fashion_mnist pid=483, ip=10.0.2.96)\u001b[0m ├───────────────────────────────┤\n",
      "\u001b[36m(train_fashion_mnist pid=483, ip=10.0.2.96)\u001b[0m │ checkpoint_dir_name           │\n",
      "\u001b[36m(train_fashion_mnist pid=483, ip=10.0.2.96)\u001b[0m │ time_this_iter_s      27.6858 │\n",
      "\u001b[36m(train_fashion_mnist pid=483, ip=10.0.2.96)\u001b[0m │ time_total_s          261.825 │\n",
      "\u001b[36m(train_fashion_mnist pid=483, ip=10.0.2.96)\u001b[0m │ training_iteration          6 │\n",
      "\u001b[36m(train_fashion_mnist pid=483, ip=10.0.2.96)\u001b[0m │ accuracy              0.85934 │\n",
      "\u001b[36m(train_fashion_mnist pid=483, ip=10.0.2.96)\u001b[0m │ loss                  0.38327 │\n",
      "\u001b[36m(train_fashion_mnist pid=483, ip=10.0.2.96)\u001b[0m ╰───────────────────────────────╯\n",
      "\u001b[36m(RayTrainWorker pid=763, ip=10.0.2.96)\u001b[0m Train Epoch 6\n",
      "\u001b[36m(RayTrainWorker pid=764, ip=10.0.2.96)\u001b[0m Train Epoch 6\n",
      "\u001b[36m(RayTrainWorker pid=766, ip=10.0.2.96)\u001b[0m Train Epoch 6\n",
      "\u001b[36m(RayTrainWorker pid=767, ip=10.0.2.96)\u001b[0m Train Epoch 6\n",
      "\u001b[36m(RayTrainWorker pid=768, ip=10.0.2.96)\u001b[0m Train Epoch 6\n",
      "\u001b[36m(RayTrainWorker pid=765, ip=10.0.2.96)\u001b[0m Train Epoch 6\n",
      "\u001b[36m(RayTrainWorker pid=467, ip=10.0.2.69)\u001b[0m Train Epoch 6\n",
      "\u001b[36m(RayTrainWorker pid=763, ip=10.0.2.96)\u001b[0m Test Epoch 6\n",
      "\u001b[36m(RayTrainWorker pid=764, ip=10.0.2.96)\u001b[0m Test Epoch 6\n",
      "\u001b[36m(RayTrainWorker pid=766, ip=10.0.2.96)\u001b[0m Test Epoch 6\n",
      "\u001b[36m(RayTrainWorker pid=767, ip=10.0.2.96)\u001b[0m Test Epoch 6\n",
      "\u001b[36m(RayTrainWorker pid=768, ip=10.0.2.96)\u001b[0m Test Epoch 6\n",
      "\u001b[36m(RayTrainWorker pid=765, ip=10.0.2.96)\u001b[0m Test Epoch 6\n",
      "\u001b[36m(RayTrainWorker pid=467, ip=10.0.2.69)\u001b[0m Test Epoch 6\n",
      "\u001b[36m(train_fashion_mnist pid=483, ip=10.0.2.96)\u001b[0m \n",
      "\u001b[36m(train_fashion_mnist pid=483, ip=10.0.2.96)\u001b[0m Training finished iteration 7 at 2024-11-25 23:56:48. Total running time: 5min 12s\n",
      "\u001b[36m(train_fashion_mnist pid=483, ip=10.0.2.96)\u001b[0m ╭───────────────────────────────╮\n",
      "\u001b[36m(train_fashion_mnist pid=483, ip=10.0.2.96)\u001b[0m │ Training result               │\n",
      "\u001b[36m(train_fashion_mnist pid=483, ip=10.0.2.96)\u001b[0m ├───────────────────────────────┤\n",
      "\u001b[36m(train_fashion_mnist pid=483, ip=10.0.2.96)\u001b[0m │ checkpoint_dir_name           │\n",
      "\u001b[36m(train_fashion_mnist pid=483, ip=10.0.2.96)\u001b[0m │ time_this_iter_s      27.6501 │\n",
      "\u001b[36m(train_fashion_mnist pid=483, ip=10.0.2.96)\u001b[0m │ time_total_s          289.475 │\n",
      "\u001b[36m(train_fashion_mnist pid=483, ip=10.0.2.96)\u001b[0m │ training_iteration          7 │\n",
      "\u001b[36m(train_fashion_mnist pid=483, ip=10.0.2.96)\u001b[0m │ accuracy              0.87124 │\n",
      "\u001b[36m(train_fashion_mnist pid=483, ip=10.0.2.96)\u001b[0m │ loss                  0.36781 │\n",
      "\u001b[36m(train_fashion_mnist pid=483, ip=10.0.2.96)\u001b[0m ╰───────────────────────────────╯\n",
      "\u001b[36m(RayTrainWorker pid=763, ip=10.0.2.96)\u001b[0m Train Epoch 7\n",
      "\u001b[36m(RayTrainWorker pid=467, ip=10.0.2.69)\u001b[0m Train Epoch 7\n",
      "\u001b[36m(RayTrainWorker pid=764, ip=10.0.2.96)\u001b[0m Train Epoch 7\n",
      "\u001b[36m(RayTrainWorker pid=766, ip=10.0.2.96)\u001b[0m Train Epoch 7\n",
      "\u001b[36m(RayTrainWorker pid=767, ip=10.0.2.96)\u001b[0m Train Epoch 7\n",
      "\u001b[36m(RayTrainWorker pid=768, ip=10.0.2.96)\u001b[0m Train Epoch 7\n",
      "\u001b[36m(RayTrainWorker pid=765, ip=10.0.2.96)\u001b[0m Train Epoch 7\n",
      "\u001b[36m(RayTrainWorker pid=467, ip=10.0.2.69)\u001b[0m Test Epoch 7\n",
      "\u001b[36m(RayTrainWorker pid=763, ip=10.0.2.96)\u001b[0m Test Epoch 7\n",
      "\u001b[36m(RayTrainWorker pid=764, ip=10.0.2.96)\u001b[0m Test Epoch 7\n",
      "\u001b[36m(RayTrainWorker pid=766, ip=10.0.2.96)\u001b[0m Test Epoch 7\n",
      "\u001b[36m(RayTrainWorker pid=767, ip=10.0.2.96)\u001b[0m Test Epoch 7\n",
      "\u001b[36m(RayTrainWorker pid=768, ip=10.0.2.96)\u001b[0m Test Epoch 7\n",
      "\u001b[36m(RayTrainWorker pid=765, ip=10.0.2.96)\u001b[0m Test Epoch 7\n",
      "\u001b[36m(RayTrainWorker pid=467, ip=10.0.2.69)\u001b[0m Train Epoch 8\n",
      "\u001b[36m(train_fashion_mnist pid=483, ip=10.0.2.96)\u001b[0m \n",
      "\u001b[36m(train_fashion_mnist pid=483, ip=10.0.2.96)\u001b[0m Training finished iteration 8 at 2024-11-25 23:57:16. Total running time: 5min 39s\n",
      "\u001b[36m(train_fashion_mnist pid=483, ip=10.0.2.96)\u001b[0m ╭───────────────────────────────╮\n",
      "\u001b[36m(train_fashion_mnist pid=483, ip=10.0.2.96)\u001b[0m │ Training result               │\n",
      "\u001b[36m(train_fashion_mnist pid=483, ip=10.0.2.96)\u001b[0m ├───────────────────────────────┤\n",
      "\u001b[36m(train_fashion_mnist pid=483, ip=10.0.2.96)\u001b[0m │ checkpoint_dir_name           │\n",
      "\u001b[36m(train_fashion_mnist pid=483, ip=10.0.2.96)\u001b[0m │ time_this_iter_s      27.6712 │\n",
      "\u001b[36m(train_fashion_mnist pid=483, ip=10.0.2.96)\u001b[0m │ time_total_s          317.146 │\n",
      "\u001b[36m(train_fashion_mnist pid=483, ip=10.0.2.96)\u001b[0m │ training_iteration          8 │\n",
      "\u001b[36m(train_fashion_mnist pid=483, ip=10.0.2.96)\u001b[0m │ accuracy              0.87124 │\n",
      "\u001b[36m(train_fashion_mnist pid=483, ip=10.0.2.96)\u001b[0m │ loss                  0.37384 │\n",
      "\u001b[36m(train_fashion_mnist pid=483, ip=10.0.2.96)\u001b[0m ╰───────────────────────────────╯\n",
      "\u001b[36m(RayTrainWorker pid=763, ip=10.0.2.96)\u001b[0m Train Epoch 8\n",
      "\u001b[36m(RayTrainWorker pid=764, ip=10.0.2.96)\u001b[0m Train Epoch 8\n",
      "\u001b[36m(RayTrainWorker pid=766, ip=10.0.2.96)\u001b[0m Train Epoch 8\n",
      "\u001b[36m(RayTrainWorker pid=767, ip=10.0.2.96)\u001b[0m Train Epoch 8\n",
      "\u001b[36m(RayTrainWorker pid=768, ip=10.0.2.96)\u001b[0m Train Epoch 8\n",
      "\u001b[36m(RayTrainWorker pid=765, ip=10.0.2.96)\u001b[0m Train Epoch 8\n",
      "\u001b[36m(RayTrainWorker pid=467, ip=10.0.2.69)\u001b[0m Test Epoch 8\n",
      "\u001b[36m(RayTrainWorker pid=763, ip=10.0.2.96)\u001b[0m Test Epoch 8\n",
      "\u001b[36m(RayTrainWorker pid=764, ip=10.0.2.96)\u001b[0m Test Epoch 8\n",
      "\u001b[36m(RayTrainWorker pid=766, ip=10.0.2.96)\u001b[0m Test Epoch 8\n",
      "\u001b[36m(RayTrainWorker pid=767, ip=10.0.2.96)\u001b[0m Test Epoch 8\n",
      "\u001b[36m(RayTrainWorker pid=768, ip=10.0.2.96)\u001b[0m Test Epoch 8\n",
      "\u001b[36m(RayTrainWorker pid=765, ip=10.0.2.96)\u001b[0m Test Epoch 8\n",
      "\u001b[36m(RayTrainWorker pid=467, ip=10.0.2.69)\u001b[0m Train Epoch 9\n",
      "\u001b[36m(train_fashion_mnist pid=483, ip=10.0.2.96)\u001b[0m \n",
      "\u001b[36m(train_fashion_mnist pid=483, ip=10.0.2.96)\u001b[0m Training finished iteration 9 at 2024-11-25 23:57:44. Total running time: 6min 7s\n",
      "\u001b[36m(train_fashion_mnist pid=483, ip=10.0.2.96)\u001b[0m ╭───────────────────────────────╮\n",
      "\u001b[36m(train_fashion_mnist pid=483, ip=10.0.2.96)\u001b[0m │ Training result               │\n",
      "\u001b[36m(train_fashion_mnist pid=483, ip=10.0.2.96)\u001b[0m ├───────────────────────────────┤\n",
      "\u001b[36m(train_fashion_mnist pid=483, ip=10.0.2.96)\u001b[0m │ checkpoint_dir_name           │\n",
      "\u001b[36m(train_fashion_mnist pid=483, ip=10.0.2.96)\u001b[0m │ time_this_iter_s      27.6654 │\n",
      "\u001b[36m(train_fashion_mnist pid=483, ip=10.0.2.96)\u001b[0m │ time_total_s          344.812 │\n",
      "\u001b[36m(train_fashion_mnist pid=483, ip=10.0.2.96)\u001b[0m │ training_iteration          9 │\n",
      "\u001b[36m(train_fashion_mnist pid=483, ip=10.0.2.96)\u001b[0m │ accuracy              0.87754 │\n",
      "\u001b[36m(train_fashion_mnist pid=483, ip=10.0.2.96)\u001b[0m │ loss                  0.36155 │\n",
      "\u001b[36m(train_fashion_mnist pid=483, ip=10.0.2.96)\u001b[0m ╰───────────────────────────────╯\n",
      "\u001b[36m(RayTrainWorker pid=763, ip=10.0.2.96)\u001b[0m Train Epoch 9\n",
      "\u001b[36m(RayTrainWorker pid=764, ip=10.0.2.96)\u001b[0m Train Epoch 9\n",
      "\u001b[36m(RayTrainWorker pid=766, ip=10.0.2.96)\u001b[0m Train Epoch 9\n",
      "\u001b[36m(RayTrainWorker pid=767, ip=10.0.2.96)\u001b[0m Train Epoch 9\n",
      "\u001b[36m(RayTrainWorker pid=768, ip=10.0.2.96)\u001b[0m Train Epoch 9\n",
      "\u001b[36m(RayTrainWorker pid=765, ip=10.0.2.96)\u001b[0m Train Epoch 9\n",
      "\u001b[36m(RayTrainWorker pid=467, ip=10.0.2.69)\u001b[0m Test Epoch 9\n",
      "\u001b[36m(RayTrainWorker pid=763, ip=10.0.2.96)\u001b[0m Test Epoch 9\n",
      "\u001b[36m(RayTrainWorker pid=764, ip=10.0.2.96)\u001b[0m Test Epoch 9\n",
      "\u001b[36m(RayTrainWorker pid=766, ip=10.0.2.96)\u001b[0m Test Epoch 9\n",
      "\u001b[36m(RayTrainWorker pid=767, ip=10.0.2.96)\u001b[0m Test Epoch 9\n",
      "\u001b[36m(RayTrainWorker pid=768, ip=10.0.2.96)\u001b[0m Test Epoch 9\n",
      "\u001b[36m(RayTrainWorker pid=765, ip=10.0.2.96)\u001b[0m Test Epoch 9\n",
      "\u001b[36m(train_fashion_mnist pid=483, ip=10.0.2.96)\u001b[0m \n",
      "\u001b[36m(train_fashion_mnist pid=483, ip=10.0.2.96)\u001b[0m Training finished iteration 10 at 2024-11-25 23:58:11. Total running time: 6min 35s\n",
      "\u001b[36m(train_fashion_mnist pid=483, ip=10.0.2.96)\u001b[0m ╭───────────────────────────────╮\n",
      "\u001b[36m(train_fashion_mnist pid=483, ip=10.0.2.96)\u001b[0m │ Training result               │\n",
      "\u001b[36m(train_fashion_mnist pid=483, ip=10.0.2.96)\u001b[0m ├───────────────────────────────┤\n",
      "\u001b[36m(train_fashion_mnist pid=483, ip=10.0.2.96)\u001b[0m │ checkpoint_dir_name           │\n",
      "\u001b[36m(train_fashion_mnist pid=483, ip=10.0.2.96)\u001b[0m │ time_this_iter_s      27.6103 │\n",
      "\u001b[36m(train_fashion_mnist pid=483, ip=10.0.2.96)\u001b[0m │ time_total_s          372.422 │\n",
      "\u001b[36m(train_fashion_mnist pid=483, ip=10.0.2.96)\u001b[0m │ training_iteration         10 │\n",
      "\u001b[36m(train_fashion_mnist pid=483, ip=10.0.2.96)\u001b[0m │ accuracy              0.87264 │\n",
      "\u001b[36m(train_fashion_mnist pid=483, ip=10.0.2.96)\u001b[0m │ loss                  0.35353 │\n",
      "\u001b[36m(train_fashion_mnist pid=483, ip=10.0.2.96)\u001b[0m ╰───────────────────────────────╯\n"
     ]
    },
    {
     "name": "stderr",
     "output_type": "stream",
     "text": [
      "\u001b[36m(train_fashion_mnist pid=483, ip=10.0.2.96)\u001b[0m Wrote the latest version of all result files and experiment state to '/home/ray/ray_results/TorchTrainer_2024-11-25_23-51-36' in 0.0028s.\n"
     ]
    },
    {
     "name": "stdout",
     "output_type": "stream",
     "text": [
      "\u001b[36m(train_fashion_mnist pid=483, ip=10.0.2.96)\u001b[0m \n",
      "\u001b[36m(train_fashion_mnist pid=483, ip=10.0.2.96)\u001b[0m Training completed after 10 iterations at 2024-11-25 23:58:12. Total running time: 6min 36s\n",
      "\u001b[36m(train_fashion_mnist pid=483, ip=10.0.2.96)\u001b[0m \n",
      "\u001b[36m(train_fashion_mnist pid=483, ip=10.0.2.96)\u001b[0m Training result: Result(\n",
      "\u001b[36m(train_fashion_mnist pid=483, ip=10.0.2.96)\u001b[0m   metrics={'loss': 0.35352502386181617, 'accuracy': 0.8726382085374388},\n",
      "\u001b[36m(train_fashion_mnist pid=483, ip=10.0.2.96)\u001b[0m   path='/home/ray/ray_results/TorchTrainer_2024-11-25_23-51-36/TorchTrainer_4343d_00000_0_2024-11-25_23-51-36',\n",
      "\u001b[36m(train_fashion_mnist pid=483, ip=10.0.2.96)\u001b[0m   filesystem='local',\n",
      "\u001b[36m(train_fashion_mnist pid=483, ip=10.0.2.96)\u001b[0m   checkpoint=None\n",
      "\u001b[36m(train_fashion_mnist pid=483, ip=10.0.2.96)\u001b[0m )\n"
     ]
    }
   ],
   "source": [
    "ray.get(train_fashion_mnist.remote(num_workers=7, use_gpu=False))"
   ]
  },
  {
   "cell_type": "markdown",
   "id": "51e50116-2c34-457a-af10-7c0031555286",
   "metadata": {},
   "source": [
    "# Shut down Ray workers\n"
   ]
  },
  {
   "cell_type": "code",
   "execution_count": 6,
   "id": "d8897c41-de60-4f1f-8da2-68773865be3e",
   "metadata": {},
   "outputs": [],
   "source": [
    "ray.shutdown()"
   ]
  },
  {
   "cell_type": "code",
   "execution_count": null,
   "id": "85560c19-5397-4987-8192-2dc59ea59f1a",
   "metadata": {},
   "outputs": [],
   "source": []
  }
 ],
 "metadata": {
  "kernelspec": {
   "display_name": "Python 3 (ipykernel)",
   "language": "python",
   "name": "python3"
  },
  "language_info": {
   "codemirror_mode": {
    "name": "ipython",
    "version": 3
   },
   "file_extension": ".py",
   "mimetype": "text/x-python",
   "name": "python",
   "nbconvert_exporter": "python",
   "pygments_lexer": "ipython3",
   "version": "3.9.13"
  }
 },
 "nbformat": 4,
 "nbformat_minor": 5
}
